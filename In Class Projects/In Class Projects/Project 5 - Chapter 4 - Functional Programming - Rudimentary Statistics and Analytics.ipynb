{
 "cells": [
  {
   "cell_type": "markdown",
   "id": "01da499b",
   "metadata": {},
   "source": [
    "## Functional Programming: Rudimentary Statistics"
   ]
  },
  {
   "cell_type": "markdown",
   "id": "e1ee8ffc",
   "metadata": {},
   "source": [
    "return obj (from function): Functions may return an object to be saved if a variable is defined by the function i.e., var1 = function(obj1, obj2, . . .)"
   ]
  },
  {
   "cell_type": "markdown",
   "id": "2060094e",
   "metadata": {},
   "source": [
    "# Building a Function"
   ]
  },
  {
   "cell_type": "code",
   "execution_count": 1,
   "id": "c4525208",
   "metadata": {},
   "outputs": [
    {
     "ename": "SyntaxError",
     "evalue": "invalid syntax (2814180692.py, line 1)",
     "output_type": "error",
     "traceback": [
      "\u001b[0;36m  File \u001b[0;32m\"/var/folders/3j/6nrfh83n4n5dgx0fgb3pdh9c0000gn/T/ipykernel_48833/2814180692.py\"\u001b[0;36m, line \u001b[0;32m1\u001b[0m\n\u001b[0;31m    def function_name(object1, object2, ..., objectn):\u001b[0m\n\u001b[0m                                        ^\u001b[0m\n\u001b[0;31mSyntaxError\u001b[0m\u001b[0;31m:\u001b[0m invalid syntax\n"
     ]
    }
   ],
   "source": [
    "# def function_name(object1, object2, ..., objectn):\n",
    "   # <operations> "
   ]
  },
  {
   "cell_type": "markdown",
   "id": "df61f30c",
   "metadata": {},
   "source": [
    "# Total Function:"
   ]
  },
  {
   "cell_type": "markdown",
   "id": "9ddaa1de",
   "metadata": {},
   "source": [
    "$\\sum_{i=0}^{n-1} x_{i}$"
   ]
  },
  {
   "cell_type": "code",
   "execution_count": 2,
   "id": "828af184",
   "metadata": {},
   "outputs": [
    {
     "name": "stdout",
     "output_type": "stream",
     "text": [
      "total\t value\n",
      "0 \t 0\n",
      "1 \t 1\n",
      "3 \t 2\n",
      "6 \t 3\n",
      "10 \t 4\n",
      "15 \t 5\n",
      "21 \t 6\n",
      "28 \t 7\n",
      "36 \t 8\n",
      "45 \t 9\n",
      "final total: 45\n"
     ]
    }
   ],
   "source": [
    "n = 0\n",
    "total = 0\n",
    "values = [i for i in range(10)]\n",
    "\n",
    "print(\"total\\t\", \"value\")\n",
    "for value in values:\n",
    "    total += value\n",
    "    print(total,\"\\t\", value)\n",
    "    \n",
    "print(\"final total:\", total)"
   ]
  },
  {
   "cell_type": "code",
   "execution_count": 3,
   "id": "234a5c2b",
   "metadata": {},
   "outputs": [
    {
     "name": "stdout",
     "output_type": "stream",
     "text": [
      "total\t value\n",
      "0 \t 0\n",
      "2 \t 2\n",
      "6 \t 4\n",
      "12 \t 6\n",
      "20 \t 8\n",
      "30 \t 10\n",
      "42 \t 12\n",
      "56 \t 14\n",
      "72 \t 16\n",
      "90 \t 18\n",
      "110 \t 20\n",
      "132 \t 22\n",
      "156 \t 24\n",
      "182 \t 26\n",
      "210 \t 28\n",
      "240 \t 30\n",
      "272 \t 32\n",
      "306 \t 34\n",
      "342 \t 36\n",
      "380 \t 38\n",
      "420 \t 40\n",
      "462 \t 42\n",
      "506 \t 44\n",
      "552 \t 46\n",
      "600 \t 48\n",
      "650 \t 50\n",
      "702 \t 52\n",
      "756 \t 54\n",
      "812 \t 56\n",
      "870 \t 58\n",
      "930 \t 60\n",
      "992 \t 62\n",
      "1056 \t 64\n",
      "1122 \t 66\n",
      "1190 \t 68\n",
      "1260 \t 70\n",
      "1332 \t 72\n",
      "1406 \t 74\n",
      "1482 \t 76\n",
      "1560 \t 78\n",
      "1640 \t 80\n",
      "1722 \t 82\n",
      "1806 \t 84\n",
      "1892 \t 86\n",
      "1980 \t 88\n",
      "2070 \t 90\n",
      "2162 \t 92\n",
      "2256 \t 94\n",
      "2352 \t 96\n",
      "2450 \t 98\n",
      "2550 \t 100\n",
      "2652 \t 102\n",
      "2756 \t 104\n",
      "2862 \t 106\n",
      "2970 \t 108\n",
      "3080 \t 110\n",
      "3192 \t 112\n",
      "3306 \t 114\n",
      "3422 \t 116\n",
      "3540 \t 118\n",
      "3660 \t 120\n",
      "3782 \t 122\n",
      "3906 \t 124\n",
      "4032 \t 126\n",
      "4160 \t 128\n",
      "4290 \t 130\n",
      "4422 \t 132\n",
      "4556 \t 134\n",
      "4692 \t 136\n",
      "4830 \t 138\n",
      "4970 \t 140\n",
      "5112 \t 142\n",
      "5256 \t 144\n",
      "5402 \t 146\n",
      "5550 \t 148\n",
      "5700 \t 150\n",
      "5852 \t 152\n",
      "6006 \t 154\n",
      "6162 \t 156\n",
      "6320 \t 158\n",
      "6480 \t 160\n",
      "6642 \t 162\n",
      "6806 \t 164\n",
      "6972 \t 166\n",
      "7140 \t 168\n",
      "7310 \t 170\n",
      "7482 \t 172\n",
      "7656 \t 174\n",
      "7832 \t 176\n",
      "8010 \t 178\n",
      "8190 \t 180\n",
      "8372 \t 182\n",
      "8556 \t 184\n",
      "8742 \t 186\n",
      "8930 \t 188\n",
      "9120 \t 190\n",
      "9312 \t 192\n",
      "9506 \t 194\n",
      "9702 \t 196\n",
      "9900 \t 198\n",
      "10100 \t 200\n",
      "10302 \t 202\n",
      "10506 \t 204\n",
      "10712 \t 206\n",
      "10920 \t 208\n",
      "11130 \t 210\n",
      "11342 \t 212\n",
      "11556 \t 214\n",
      "11772 \t 216\n",
      "11990 \t 218\n",
      "12210 \t 220\n",
      "12432 \t 222\n",
      "12656 \t 224\n",
      "12882 \t 226\n",
      "13110 \t 228\n",
      "13340 \t 230\n",
      "13572 \t 232\n",
      "13806 \t 234\n",
      "14042 \t 236\n",
      "14280 \t 238\n",
      "14520 \t 240\n",
      "14762 \t 242\n",
      "15006 \t 244\n",
      "15252 \t 246\n",
      "15500 \t 248\n",
      "15750 \t 250\n",
      "16002 \t 252\n",
      "16256 \t 254\n",
      "16512 \t 256\n",
      "16770 \t 258\n",
      "17030 \t 260\n",
      "17292 \t 262\n",
      "17556 \t 264\n",
      "17822 \t 266\n",
      "18090 \t 268\n",
      "18360 \t 270\n",
      "18632 \t 272\n",
      "18906 \t 274\n",
      "19182 \t 276\n",
      "19460 \t 278\n",
      "19740 \t 280\n",
      "20022 \t 282\n",
      "20306 \t 284\n",
      "20592 \t 286\n",
      "20880 \t 288\n",
      "21170 \t 290\n",
      "21462 \t 292\n",
      "21756 \t 294\n",
      "22052 \t 296\n",
      "22350 \t 298\n",
      "22650 \t 300\n",
      "22952 \t 302\n",
      "23256 \t 304\n",
      "23562 \t 306\n",
      "23870 \t 308\n",
      "24180 \t 310\n",
      "24492 \t 312\n",
      "24806 \t 314\n",
      "25122 \t 316\n",
      "25440 \t 318\n",
      "25760 \t 320\n",
      "26082 \t 322\n",
      "26406 \t 324\n",
      "26732 \t 326\n",
      "27060 \t 328\n",
      "27390 \t 330\n",
      "27722 \t 332\n",
      "28056 \t 334\n",
      "28392 \t 336\n",
      "28730 \t 338\n",
      "29070 \t 340\n",
      "29412 \t 342\n",
      "29756 \t 344\n",
      "30102 \t 346\n",
      "30450 \t 348\n",
      "30800 \t 350\n",
      "31152 \t 352\n",
      "31506 \t 354\n",
      "31862 \t 356\n",
      "32220 \t 358\n",
      "32580 \t 360\n",
      "32942 \t 362\n",
      "33306 \t 364\n",
      "33672 \t 366\n",
      "34040 \t 368\n",
      "34410 \t 370\n",
      "34782 \t 372\n",
      "35156 \t 374\n",
      "35532 \t 376\n",
      "35910 \t 378\n",
      "36290 \t 380\n",
      "36672 \t 382\n",
      "37056 \t 384\n",
      "37442 \t 386\n",
      "37830 \t 388\n",
      "38220 \t 390\n",
      "38612 \t 392\n",
      "39006 \t 394\n",
      "39402 \t 396\n",
      "39800 \t 398\n",
      "40200 \t 400\n",
      "40602 \t 402\n",
      "41006 \t 404\n",
      "41412 \t 406\n",
      "41820 \t 408\n",
      "42230 \t 410\n",
      "42642 \t 412\n",
      "43056 \t 414\n",
      "43472 \t 416\n",
      "43890 \t 418\n",
      "44310 \t 420\n",
      "44732 \t 422\n",
      "45156 \t 424\n",
      "45582 \t 426\n",
      "46010 \t 428\n",
      "46440 \t 430\n",
      "46872 \t 432\n",
      "47306 \t 434\n",
      "47742 \t 436\n",
      "48180 \t 438\n",
      "48620 \t 440\n",
      "49062 \t 442\n",
      "49506 \t 444\n",
      "49952 \t 446\n",
      "50400 \t 448\n",
      "50850 \t 450\n",
      "51302 \t 452\n",
      "51756 \t 454\n",
      "52212 \t 456\n",
      "52670 \t 458\n",
      "53130 \t 460\n",
      "53592 \t 462\n",
      "54056 \t 464\n",
      "54522 \t 466\n",
      "54990 \t 468\n",
      "55460 \t 470\n",
      "55932 \t 472\n",
      "56406 \t 474\n",
      "56882 \t 476\n",
      "57360 \t 478\n",
      "57840 \t 480\n",
      "58322 \t 482\n",
      "58806 \t 484\n",
      "59292 \t 486\n",
      "59780 \t 488\n",
      "60270 \t 490\n",
      "60762 \t 492\n",
      "61256 \t 494\n",
      "61752 \t 496\n",
      "62250 \t 498\n",
      "62750 \t 500\n",
      "63252 \t 502\n",
      "63756 \t 504\n",
      "64262 \t 506\n",
      "64770 \t 508\n",
      "65280 \t 510\n",
      "65792 \t 512\n",
      "66306 \t 514\n",
      "66822 \t 516\n",
      "67340 \t 518\n",
      "67860 \t 520\n",
      "68382 \t 522\n",
      "68906 \t 524\n",
      "69432 \t 526\n",
      "69960 \t 528\n",
      "70490 \t 530\n",
      "71022 \t 532\n",
      "71556 \t 534\n",
      "72092 \t 536\n",
      "72630 \t 538\n",
      "73170 \t 540\n",
      "73712 \t 542\n",
      "74256 \t 544\n",
      "74802 \t 546\n",
      "75350 \t 548\n",
      "75900 \t 550\n",
      "76452 \t 552\n",
      "77006 \t 554\n",
      "77562 \t 556\n",
      "78120 \t 558\n",
      "78680 \t 560\n",
      "79242 \t 562\n",
      "79806 \t 564\n",
      "80372 \t 566\n",
      "80940 \t 568\n",
      "81510 \t 570\n",
      "82082 \t 572\n",
      "82656 \t 574\n",
      "83232 \t 576\n",
      "83810 \t 578\n",
      "84390 \t 580\n",
      "84972 \t 582\n",
      "85556 \t 584\n",
      "86142 \t 586\n",
      "86730 \t 588\n",
      "87320 \t 590\n",
      "87912 \t 592\n",
      "88506 \t 594\n",
      "89102 \t 596\n",
      "89700 \t 598\n",
      "90300 \t 600\n",
      "90902 \t 602\n",
      "91506 \t 604\n",
      "92112 \t 606\n",
      "92720 \t 608\n",
      "93330 \t 610\n",
      "93942 \t 612\n",
      "94556 \t 614\n",
      "95172 \t 616\n",
      "95790 \t 618\n",
      "96410 \t 620\n",
      "97032 \t 622\n",
      "97656 \t 624\n",
      "98282 \t 626\n",
      "98910 \t 628\n",
      "99540 \t 630\n",
      "100172 \t 632\n",
      "100806 \t 634\n",
      "101442 \t 636\n",
      "102080 \t 638\n",
      "102720 \t 640\n",
      "103362 \t 642\n",
      "104006 \t 644\n",
      "104652 \t 646\n",
      "105300 \t 648\n",
      "105950 \t 650\n",
      "106602 \t 652\n",
      "107256 \t 654\n",
      "107912 \t 656\n",
      "108570 \t 658\n",
      "109230 \t 660\n",
      "109892 \t 662\n",
      "110556 \t 664\n",
      "111222 \t 666\n",
      "111890 \t 668\n",
      "112560 \t 670\n",
      "113232 \t 672\n",
      "113906 \t 674\n",
      "114582 \t 676\n",
      "115260 \t 678\n",
      "115940 \t 680\n",
      "116622 \t 682\n",
      "117306 \t 684\n",
      "117992 \t 686\n",
      "118680 \t 688\n",
      "119370 \t 690\n",
      "120062 \t 692\n",
      "120756 \t 694\n",
      "121452 \t 696\n",
      "122150 \t 698\n",
      "122850 \t 700\n",
      "123552 \t 702\n",
      "124256 \t 704\n",
      "124962 \t 706\n",
      "125670 \t 708\n",
      "126380 \t 710\n",
      "127092 \t 712\n",
      "127806 \t 714\n",
      "128522 \t 716\n",
      "129240 \t 718\n",
      "129960 \t 720\n",
      "130682 \t 722\n",
      "131406 \t 724\n",
      "132132 \t 726\n",
      "132860 \t 728\n",
      "133590 \t 730\n",
      "134322 \t 732\n",
      "135056 \t 734\n",
      "135792 \t 736\n",
      "136530 \t 738\n",
      "137270 \t 740\n",
      "138012 \t 742\n",
      "138756 \t 744\n",
      "139502 \t 746\n",
      "140250 \t 748\n",
      "141000 \t 750\n",
      "141752 \t 752\n",
      "142506 \t 754\n",
      "143262 \t 756\n",
      "144020 \t 758\n",
      "144780 \t 760\n",
      "145542 \t 762\n",
      "146306 \t 764\n",
      "147072 \t 766\n",
      "147840 \t 768\n",
      "148610 \t 770\n",
      "149382 \t 772\n",
      "150156 \t 774\n",
      "150932 \t 776\n",
      "151710 \t 778\n",
      "152490 \t 780\n",
      "153272 \t 782\n",
      "154056 \t 784\n",
      "154842 \t 786\n",
      "155630 \t 788\n",
      "156420 \t 790\n",
      "157212 \t 792\n",
      "158006 \t 794\n",
      "158802 \t 796\n",
      "159600 \t 798\n",
      "160400 \t 800\n",
      "161202 \t 802\n",
      "162006 \t 804\n",
      "162812 \t 806\n",
      "163620 \t 808\n",
      "164430 \t 810\n",
      "165242 \t 812\n",
      "166056 \t 814\n",
      "166872 \t 816\n",
      "167690 \t 818\n",
      "168510 \t 820\n",
      "169332 \t 822\n",
      "170156 \t 824\n",
      "170982 \t 826\n",
      "171810 \t 828\n",
      "172640 \t 830\n",
      "173472 \t 832\n",
      "174306 \t 834\n",
      "175142 \t 836\n",
      "175980 \t 838\n",
      "176820 \t 840\n",
      "177662 \t 842\n",
      "178506 \t 844\n",
      "179352 \t 846\n",
      "180200 \t 848\n",
      "181050 \t 850\n",
      "181902 \t 852\n",
      "182756 \t 854\n",
      "183612 \t 856\n",
      "184470 \t 858\n",
      "185330 \t 860\n",
      "186192 \t 862\n",
      "187056 \t 864\n",
      "187922 \t 866\n",
      "188790 \t 868\n",
      "189660 \t 870\n",
      "190532 \t 872\n",
      "191406 \t 874\n",
      "192282 \t 876\n",
      "193160 \t 878\n",
      "194040 \t 880\n",
      "194922 \t 882\n",
      "195806 \t 884\n",
      "196692 \t 886\n",
      "197580 \t 888\n",
      "198470 \t 890\n",
      "199362 \t 892\n",
      "200256 \t 894\n",
      "201152 \t 896\n",
      "202050 \t 898\n",
      "202950 \t 900\n",
      "203852 \t 902\n",
      "204756 \t 904\n",
      "205662 \t 906\n",
      "206570 \t 908\n",
      "207480 \t 910\n",
      "208392 \t 912\n",
      "209306 \t 914\n",
      "210222 \t 916\n",
      "211140 \t 918\n",
      "212060 \t 920\n",
      "212982 \t 922\n",
      "213906 \t 924\n",
      "214832 \t 926\n",
      "215760 \t 928\n",
      "216690 \t 930\n",
      "217622 \t 932\n",
      "218556 \t 934\n",
      "219492 \t 936\n",
      "220430 \t 938\n",
      "221370 \t 940\n",
      "222312 \t 942\n",
      "223256 \t 944\n",
      "224202 \t 946\n",
      "225150 \t 948\n",
      "226100 \t 950\n",
      "227052 \t 952\n",
      "228006 \t 954\n",
      "228962 \t 956\n",
      "229920 \t 958\n",
      "230880 \t 960\n",
      "231842 \t 962\n",
      "232806 \t 964\n",
      "233772 \t 966\n",
      "234740 \t 968\n",
      "235710 \t 970\n",
      "236682 \t 972\n",
      "237656 \t 974\n",
      "238632 \t 976\n",
      "239610 \t 978\n",
      "240590 \t 980\n",
      "241572 \t 982\n",
      "242556 \t 984\n",
      "243542 \t 986\n",
      "244530 \t 988\n",
      "245520 \t 990\n",
      "246512 \t 992\n",
      "247506 \t 994\n",
      "248502 \t 996\n",
      "249500 \t 998\n"
     ]
    }
   ],
   "source": [
    "# This is a bad idea!! don't keep copying and pasting old code!\n",
    "print(\"total\\t\", \"value\")\n",
    "total = 0\n",
    "values = [i for i in range(0,1000,2)]\n",
    "for value in values:\n",
    "    total += value\n",
    "    print(total, \"\\t\", value)"
   ]
  },
  {
   "cell_type": "code",
   "execution_count": 4,
   "id": "98e5e47c",
   "metadata": {},
   "outputs": [
    {
     "data": {
      "text/plain": [
       "249500"
      ]
     },
     "execution_count": 4,
     "metadata": {},
     "output_type": "execute_result"
    }
   ],
   "source": [
    "# build a function:\n",
    "def total(lst):\n",
    "    total_ = 0\n",
    "    # in original I used the index of the list\n",
    "    # ... \n",
    "    # n = len(lst)\n",
    "    # for i in range(n)\n",
    "    for val in lst:\n",
    "        total_ += val\n",
    "    return total_\n",
    "total(values)\n"
   ]
  },
  {
   "cell_type": "code",
   "execution_count": 5,
   "id": "aefefd2d",
   "metadata": {},
   "outputs": [
    {
     "data": {
      "text/plain": [
       "932984"
      ]
     },
     "execution_count": 5,
     "metadata": {},
     "output_type": "execute_result"
    }
   ],
   "source": [
    "total([i for i in range(-1000, 10000, 53)])"
   ]
  },
  {
   "cell_type": "code",
   "execution_count": 6,
   "id": "8df195b5",
   "metadata": {},
   "outputs": [],
   "source": [
    "# now you never have to build this code again, you just have to call it"
   ]
  },
  {
   "cell_type": "code",
   "execution_count": 7,
   "id": "7fe4b033",
   "metadata": {},
   "outputs": [
    {
     "data": {
      "text/plain": [
       "(165, 520)"
      ]
     },
     "execution_count": 7,
     "metadata": {},
     "output_type": "execute_result"
    }
   ],
   "source": [
    "import random\n",
    "X1 = [3, 6, 9, 12, 15,18,21,24,27,30]\n",
    "X2 = [random.randint(0,100) for i in range(10)]\n",
    "total(X1), total(X2)"
   ]
  },
  {
   "cell_type": "markdown",
   "id": "fdb6d581",
   "metadata": {},
   "source": [
    "## Statistical Functions\n",
    "| New Concepts | Description |\n",
    "| --- | --- |\n",
    "| Operators e.g., !=, %, +=, \\*\\* | The operator != tests whether the values on either side of the operator are equal; _a % b_ returns the remainder of $a / b$; _a += b_ sets a equal to $a + b$; _a ** b_ raises a to the b power ($a^b$). |\n",
    "| Dictionary | A dictionary is a datastructure that uses keys instead of index values. Each unique key references an object linked to that key. |\n",
    "| Dictionary Methods e.g., _dct.values()_ | dct.values() returns a list of the objects that are referenced by the dictionaries keys.|\n",
    "| Default Function Values | Function may assume a default value for values passed to it. e.g., _def function(val1 = 0, val2 = 2, …)_ | "
   ]
  },
  {
   "cell_type": "markdown",
   "id": "7f431504",
   "metadata": {},
   "source": [
    "## Mean Function"
   ]
  },
  {
   "cell_type": "markdown",
   "id": "6a2fa3cb",
   "metadata": {},
   "source": [
    "# Let $X_1, X_2,...,X_n$ represent $n$ random variables. For a given dataset, useful descriptive statistics of central tendency include mean, median, and mode, which we built as functions in a previous chapter. \n",
    "\n",
    "# We define the mean of a set of numbers:\n",
    "# $\\bar{X} = \\frac{\\sum_{i=0}^{n-1} x_{i}} {n}$\n",
    "\n",
    "\n",
    "\n"
   ]
  },
  {
   "cell_type": "code",
   "execution_count": 8,
   "id": "96d34810",
   "metadata": {},
   "outputs": [
    {
     "data": {
      "text/plain": [
       "(16.5, 52.0)"
      ]
     },
     "execution_count": 8,
     "metadata": {},
     "output_type": "execute_result"
    }
   ],
   "source": [
    "def mean(lst):\n",
    "    n = len(lst)\n",
    "    mean_ = total(lst) / n\n",
    "    return mean_\n",
    "mean(X1), mean(X2)\n",
    "    "
   ]
  },
  {
   "cell_type": "code",
   "execution_count": 9,
   "id": "02cdbd3a",
   "metadata": {},
   "outputs": [],
   "source": [
    "# Now let's build the rest of the summary statistical functions\n",
    "\n",
    "# 1. median\n",
    "# 2. mode\n",
    "# 3. variance\n",
    "# 4. standard deviation\n",
    "# 5. covariance\n",
    "# 6. correlation"
   ]
  },
  {
   "cell_type": "markdown",
   "id": "abc9181c",
   "metadata": {},
   "source": [
    "# Median: the middle most number in a list. It is less sensitive to outliers than mean; it is the value in the middle of the dataset. \n",
    " \n",
    "\n"
   ]
  },
  {
   "cell_type": "markdown",
   "id": "7db72efc",
   "metadata": {},
   "source": [
    "# For a series of odd length defined by a range [i, n] starting with index  𝑖=0, the median is n/2\n",
    "\n",
    "# For a series that is of even length but otherwise the same, the median is the mean value of the two values that comprise middle of the list. The indices of these numbers are equal defined:\n",
    "\n"
   ]
  },
  {
   "cell_type": "markdown",
   "id": "7ab082e7",
   "metadata": {},
   "source": [
    "# $$i_1 = \\frac{n + 1}{2}; i_2\\frac{n - 1}{2}$$"
   ]
  },
  {
   "cell_type": "code",
   "execution_count": 10,
   "id": "1bace3fe",
   "metadata": {},
   "outputs": [
    {
     "name": "stdout",
     "output_type": "stream",
     "text": [
      "median of X1: 16.5\n",
      "median of X2: 46.5\n"
     ]
    }
   ],
   "source": [
    "def median(lst):\n",
    "    n = len(lst)\n",
    "    lst = sorted(lst)\n",
    "# two cases:\n",
    "# 1. list of odd length\n",
    "# i % j checks for remainder upon dividing i by j \n",
    "    if n % 2 != 0:\n",
    "        #list length is odd\n",
    "        middle_index = int((n - 1) / 2)\n",
    "        median_ = lst[middle_index]\n",
    "# 2. list of even length\n",
    "    else:\n",
    "        upper_middle_index = int(n / 2)\n",
    "        lower_middle_index = upper_middle_index - 1\n",
    "        # pass slice with two middle values to mean()\n",
    "        median_ = mean(lst[lower_middle_index : upper_middle_index + 1])\n",
    "        \n",
    "    return median_\n",
    "# . . . \n",
    "median1 = median(X1)\n",
    "median2 = median(X2)\n",
    "print(\"median of X1:\", median1)\n",
    "print(\"median of X2:\", median2)"
   ]
  },
  {
   "cell_type": "code",
   "execution_count": 11,
   "id": "fe1c4236",
   "metadata": {},
   "outputs": [
    {
     "data": {
      "text/plain": [
       "15"
      ]
     },
     "execution_count": 11,
     "metadata": {},
     "output_type": "execute_result"
    }
   ],
   "source": [
    "# transform X1 to be of odd length by removing the last index:\n",
    "# this is to test the first case in the median() function\n",
    "median(X1[:-1])"
   ]
  },
  {
   "cell_type": "code",
   "execution_count": 12,
   "id": "e5764253",
   "metadata": {},
   "outputs": [
    {
     "data": {
      "text/plain": [
       "[25, 36, 37, 41, 43, 50, 52, 55, 89, 92]"
      ]
     },
     "execution_count": 12,
     "metadata": {},
     "output_type": "execute_result"
    }
   ],
   "source": [
    "sorted(X2)"
   ]
  },
  {
   "cell_type": "markdown",
   "id": "066cf854",
   "metadata": {},
   "source": [
    "## Mode: most occurring"
   ]
  },
  {
   "cell_type": "code",
   "execution_count": 13,
   "id": "fff54ad7",
   "metadata": {},
   "outputs": [
    {
     "data": {
      "text/plain": [
       "[1, 5]"
      ]
     },
     "execution_count": 13,
     "metadata": {},
     "output_type": "execute_result"
    }
   ],
   "source": [
    "def mode(lst):\n",
    "    count_dct = {}\n",
    "    # create entries for each value with 0\n",
    "    for key in lst:\n",
    "        count_dct[key] = 0\n",
    "    # add up each occurence\n",
    "    for key in lst:\n",
    "        count_dct[key] += 1\n",
    "    # calculate max_count up front\n",
    "    max_count = max(count_dct.values())\n",
    "    # now we can compare each count to the max count\n",
    "    mode_ = []\n",
    "    \n",
    "    # call the key and value it is paired to:\n",
    "    for key, count in count_dct.items():\n",
    "        if count == max_count:\n",
    "            mode_.append(key)\n",
    "    \n",
    "    return mode_\n",
    "\n",
    "lst = [1,1,1,1,1,2,3,4,5,5,5,5,5,1000,1000]\n",
    "mode(lst)"
   ]
  },
  {
   "cell_type": "markdown",
   "id": "84ad01c5",
   "metadata": {},
   "source": [
    "## Variance: Average values do not provide a robust description of the data. An average does not tell us the shape of a distribution. In this section, we will build functions to calculate statistics describing distribution of variables and their relationships. The first of these is the variance of a list of numbers.\n"
   ]
  },
  {
   "cell_type": "markdown",
   "id": "b78d912b",
   "metadata": {},
   "source": [
    "# We define population variance as:\n",
    "\n",
    "# $$ \\sigma^2 = \\frac{\\sum_{i=1}^n (X_i - \\bar{X})^2}{n}$$"
   ]
  },
  {
   "cell_type": "markdown",
   "id": "76be5be3",
   "metadata": {},
   "source": [
    "# Degrees of Freedom: \n",
    "# $$DoF = n - 1$$"
   ]
  },
  {
   "cell_type": "markdown",
   "id": "bc409ea8",
   "metadata": {},
   "source": [
    "# $$ S^2 = \\frac{\\sum_{i=1}^n (X_i - \\bar{X})^2}{n-1}$$"
   ]
  },
  {
   "cell_type": "code",
   "execution_count": 14,
   "id": "0dfadc31",
   "metadata": {},
   "outputs": [
    {
     "data": {
      "text/plain": [
       "(82.5, 74.25)"
      ]
     },
     "execution_count": 14,
     "metadata": {},
     "output_type": "execute_result"
    }
   ],
   "source": [
    "def variance(lst, sample = True):\n",
    "    # save mean value of list:\n",
    "    list_mean = mean(lst)\n",
    "    # Use n to calculate average of sum squared diffs\n",
    "    n = len(lst)\n",
    "    DoF = n - 1\n",
    "    # create value we can add squared diffs to: \n",
    "    sum_sq_diff = 0\n",
    "    \n",
    "    for val in lst:\n",
    "        diff = val - list_mean\n",
    "        sum_sq_diff += (diff) ** 2\n",
    "        # print(val, list_mean, sum_sq_diff)\n",
    "    if sample == False:\n",
    "        # normalize result by dividing by n:\n",
    "        variance_ = sum_sq_diff / n\n",
    "    else: \n",
    "        # normalize by dividing by (n-1) for samples:\n",
    "        variance_ = sum_sq_diff / DoF\n",
    "    return variance_\n",
    "variance(X1, sample = True), variance(X1, sample = False)\n",
    "    "
   ]
  },
  {
   "cell_type": "code",
   "execution_count": 15,
   "id": "606c5ae1",
   "metadata": {},
   "outputs": [
    {
     "data": {
      "text/plain": [
       "(488.22222222222223, 439.4)"
      ]
     },
     "execution_count": 15,
     "metadata": {},
     "output_type": "execute_result"
    }
   ],
   "source": [
    "variance(X2, sample = True), variance(X2, sample = False)"
   ]
  },
  {
   "cell_type": "markdown",
   "id": "4d31b3ab",
   "metadata": {},
   "source": [
    "# Standard Deviation: how far from the mean are we traveling\n",
    "# $sd = \\sqrt{S^2}$"
   ]
  },
  {
   "cell_type": "code",
   "execution_count": 23,
   "id": "fed33baf",
   "metadata": {},
   "outputs": [
    {
     "data": {
      "text/plain": [
       "(9.082951062292475, 8.616843969807043)"
      ]
     },
     "execution_count": 23,
     "metadata": {},
     "output_type": "execute_result"
    }
   ],
   "source": [
    "# calculate standard deviation\n",
    "def SD(lst, sample = True):\n",
    "    SD_ = variance(lst, sample) ** (1/2)\n",
    "    return SD_\n",
    "SD(X1, sample = True), SD(X1, sample = False)"
   ]
  },
  {
   "cell_type": "code",
   "execution_count": 24,
   "id": "8e13895b",
   "metadata": {},
   "outputs": [
    {
     "data": {
      "text/plain": [
       "(22.095751225568733, 20.961870145576228)"
      ]
     },
     "execution_count": 24,
     "metadata": {},
     "output_type": "execute_result"
    }
   ],
   "source": [
    "SD(X2, sample = True), SD(X2, sample = False)"
   ]
  },
  {
   "cell_type": "markdown",
   "id": "b6149fa5",
   "metadata": {},
   "source": [
    "# Standard Error: \n",
    "A reference to the distribution that the mean of your data is drawn from\n",
    "\n",
    "This describes how likely a given random sample mean $\\bar{x_i}$ is to deviate from the population mean $\\mu$. It is the standard deviation of the probability distribution for the random variable $\\bar{X}$, which represents all possible samples of a single given sample size $n$. As $n$ increases, $\\bar{X}$ can be expected to deviate less from $\\mu$, so standard error decreases. Because population standard deviation $\\sigma$ is rarely given, we again use an _estimator_ for standard error, denoted $s_\\bar{x}$. Populational data has no standard error as $\\mu$ can only take on a single value. "
   ]
  },
  {
   "cell_type": "code",
   "execution_count": 27,
   "id": "69397476",
   "metadata": {},
   "outputs": [],
   "source": [
    "# Build out a standard error:\n",
    "def STE(lst, sample = True):\n",
    "    n = len(lst)\n",
    "    se = SD(lst, sample) / n ** (1/2)\n",
    "    \n",
    "    return se"
   ]
  },
  {
   "cell_type": "code",
   "execution_count": 28,
   "id": "b2273f9b",
   "metadata": {},
   "outputs": [
    {
     "data": {
      "text/plain": [
       "(9.082951062292475, 2.872281323269014)"
      ]
     },
     "execution_count": 28,
     "metadata": {},
     "output_type": "execute_result"
    }
   ],
   "source": [
    "SD(X1, sample = True), STE(X1, sample = True)"
   ]
  },
  {
   "cell_type": "code",
   "execution_count": 29,
   "id": "170cc761",
   "metadata": {},
   "outputs": [
    {
     "data": {
      "text/plain": [
       "(22.095751225568733, 6.987290048525409)"
      ]
     },
     "execution_count": 29,
     "metadata": {},
     "output_type": "execute_result"
    }
   ],
   "source": [
    "SD(X2, sample = True), STE(X2, sample = True)"
   ]
  },
  {
   "cell_type": "code",
   "execution_count": 30,
   "id": "2d79c950",
   "metadata": {},
   "outputs": [],
   "source": [
    "# standard error is significantly smaller than standard deviation"
   ]
  },
  {
   "cell_type": "markdown",
   "id": "c9dc5776",
   "metadata": {},
   "source": [
    "## Covariance"
   ]
  },
  {
   "cell_type": "markdown",
   "id": "179a544f",
   "metadata": {},
   "source": [
    "To calculate covariance, we multiply the sum of the product of the difference between the observed value and the mean of each list for value _i = 1_ through _n = number of observations_:\n",
    "\n",
    "# $cov_{pop}(x,y) = \\frac{\\sum_{i=0}^{n-1} (x_{i} - x_{mean})(y_{i} - y_{mean})} {n}$\n",
    "\n",
    "We pass two lists through the covariance() function. As with the _variance()_ and _SD()_ functions, we can take the sample-covariance.\n",
    "\n",
    "# $cov_{sample}(x,y) = \\frac{\\sum_{i=0}^{n-1} (x_{i} - x_{mean})(y_{i} - y_{mean})} {n - 1}$\n"
   ]
  },
  {
   "cell_type": "code",
   "execution_count": null,
   "id": "b55fc218",
   "metadata": {},
   "outputs": [],
   "source": [
    "def covariance(lst1, lst2, sample = False):\n",
    "    mean1 = mean(lst1)\n",
    "    mean2 = mean(lst2)\n",
    "    # prepare covariance of zero\n",
    "    cov = 0\n",
    "    # get length of each list:\n",
    "    n1 = len(lst1)\n",
    "    n2 = len(lst2)\n",
    "    # check if lists are the same length:\n",
    "    if n1 == n2:\n",
    "        n = n1\n",
    "        # sum the product of the dif"
   ]
  }
 ],
 "metadata": {
  "kernelspec": {
   "display_name": "Python 3 (ipykernel)",
   "language": "python",
   "name": "python3"
  },
  "language_info": {
   "codemirror_mode": {
    "name": "ipython",
    "version": 3
   },
   "file_extension": ".py",
   "mimetype": "text/x-python",
   "name": "python",
   "nbconvert_exporter": "python",
   "pygments_lexer": "ipython3",
   "version": "3.9.13"
  }
 },
 "nbformat": 4,
 "nbformat_minor": 5
}
