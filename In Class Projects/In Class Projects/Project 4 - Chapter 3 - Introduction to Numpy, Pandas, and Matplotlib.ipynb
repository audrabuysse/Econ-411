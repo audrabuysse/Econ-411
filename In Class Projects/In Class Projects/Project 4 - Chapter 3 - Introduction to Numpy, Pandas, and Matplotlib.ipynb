{
 "cells": [
  {
   "cell_type": "markdown",
   "id": "60d93483",
   "metadata": {},
   "source": [
    "# Introduction to numpy, pandas, and matplotlib"
   ]
  },
  {
   "cell_type": "code",
   "execution_count": 1,
   "id": "cde176fc",
   "metadata": {},
   "outputs": [],
   "source": [
    "# These are dictionaries\n",
    "import numpy as np\n",
    "import pandas as pd\n",
    "import matplotlib.pyplot as plt"
   ]
  },
  {
   "cell_type": "code",
   "execution_count": 2,
   "id": "a7f4b49f",
   "metadata": {},
   "outputs": [
    {
     "data": {
      "text/plain": [
       "(<module 'numpy' from '/Users/audrabuysse/opt/anaconda3/lib/python3.9/site-packages/numpy/__init__.py'>,\n",
       " <module 'pandas' from '/Users/audrabuysse/opt/anaconda3/lib/python3.9/site-packages/pandas/__init__.py'>,\n",
       " <module 'matplotlib.pyplot' from '/Users/audrabuysse/opt/anaconda3/lib/python3.9/site-packages/matplotlib/pyplot.py'>)"
      ]
     },
     "execution_count": 2,
     "metadata": {},
     "output_type": "execute_result"
    }
   ],
   "source": [
    "# Check that these are modules we imported:\n",
    "np, pd, plt"
   ]
  },
  {
   "cell_type": "markdown",
   "id": "0b3885bc",
   "metadata": {},
   "source": [
    "# Numpy datatypes"
   ]
  },
  {
   "cell_type": "code",
   "execution_count": null,
   "id": "24c07310",
   "metadata": {},
   "outputs": [],
   "source": [
    "# numpy gives you an array of a particular datatype"
   ]
  },
  {
   "cell_type": "markdown",
   "id": "2308031a",
   "metadata": {},
   "source": [
    "## float32"
   ]
  },
  {
   "cell_type": "code",
   "execution_count": 10,
   "id": "1016c7c4",
   "metadata": {},
   "outputs": [
    {
     "data": {
      "text/plain": [
       "(1.7014118e+38, numpy.float32)"
      ]
     },
     "execution_count": 10,
     "metadata": {},
     "output_type": "execute_result"
    }
   ],
   "source": [
    "x = np.float32(2 ** 127)\n",
    "x, type(x)"
   ]
  },
  {
   "cell_type": "markdown",
   "id": "408442cc",
   "metadata": {},
   "source": [
    "## float64"
   ]
  },
  {
   "cell_type": "code",
   "execution_count": 16,
   "id": "7af0ace5",
   "metadata": {},
   "outputs": [
    {
     "data": {
      "text/plain": [
       "(8.98846567431158e+307, numpy.float64)"
      ]
     },
     "execution_count": 16,
     "metadata": {},
     "output_type": "execute_result"
    }
   ],
   "source": [
    "x = np.float64(2 ** 1023)\n",
    "x, type(x)"
   ]
  },
  {
   "cell_type": "markdown",
   "id": "b083e10b",
   "metadata": {},
   "source": [
    "## arrays have a fixed datatype: "
   ]
  },
  {
   "cell_type": "code",
   "execution_count": 18,
   "id": "d61077fc",
   "metadata": {},
   "outputs": [
    {
     "data": {
      "text/plain": [
       "(array([1., 2., 3., 4., 5.]), numpy.ndarray, dtype('float64'))"
      ]
     },
     "execution_count": 18,
     "metadata": {},
     "output_type": "execute_result"
    }
   ],
   "source": [
    "lst = [1.,2.,3.,4.,5.]\n",
    "array = np.array(lst)\n",
    "array, type(array), array.dtype"
   ]
  },
  {
   "cell_type": "code",
   "execution_count": 24,
   "id": "17f65bc7",
   "metadata": {},
   "outputs": [
    {
     "data": {
      "text/plain": [
       "array([  0,   4,   8,  12,  16,  20,  24,  28,  32,  36,  40,  44,  48,\n",
       "        52,  56,  60,  64,  68,  72,  76,  80,  84,  88,  92,  96, 100])"
      ]
     },
     "execution_count": 24,
     "metadata": {},
     "output_type": "execute_result"
    }
   ],
   "source": [
    "# np.arange creats array similar to how we would use a for loop // \n",
    "# generator to create a list\n",
    "start = 0 \n",
    "end = 100\n",
    "interval = 4\n",
    "range_array = np.arange(start,end + 1, interval)\n",
    "range_array"
   ]
  },
  {
   "cell_type": "code",
   "execution_count": 22,
   "id": "a39b20b5",
   "metadata": {
    "scrolled": true
   },
   "outputs": [
    {
     "data": {
      "text/plain": [
       "[0,\n",
       " 1,\n",
       " 2,\n",
       " 3,\n",
       " 4,\n",
       " 5,\n",
       " 6,\n",
       " 7,\n",
       " 8,\n",
       " 9,\n",
       " 10,\n",
       " 11,\n",
       " 12,\n",
       " 13,\n",
       " 14,\n",
       " 15,\n",
       " 16,\n",
       " 17,\n",
       " 18,\n",
       " 19,\n",
       " 20,\n",
       " 21,\n",
       " 22,\n",
       " 23,\n",
       " 24,\n",
       " 25,\n",
       " 26,\n",
       " 27,\n",
       " 28,\n",
       " 29,\n",
       " 30,\n",
       " 31,\n",
       " 32,\n",
       " 33,\n",
       " 34,\n",
       " 35,\n",
       " 36,\n",
       " 37,\n",
       " 38,\n",
       " 39,\n",
       " 40,\n",
       " 41,\n",
       " 42,\n",
       " 43,\n",
       " 44,\n",
       " 45,\n",
       " 46,\n",
       " 47,\n",
       " 48,\n",
       " 49,\n",
       " 50,\n",
       " 51,\n",
       " 52,\n",
       " 53,\n",
       " 54,\n",
       " 55,\n",
       " 56,\n",
       " 57,\n",
       " 58,\n",
       " 59,\n",
       " 60,\n",
       " 61,\n",
       " 62,\n",
       " 63,\n",
       " 64,\n",
       " 65,\n",
       " 66,\n",
       " 67,\n",
       " 68,\n",
       " 69,\n",
       " 70,\n",
       " 71,\n",
       " 72,\n",
       " 73,\n",
       " 74,\n",
       " 75,\n",
       " 76,\n",
       " 77,\n",
       " 78,\n",
       " 79,\n",
       " 80,\n",
       " 81,\n",
       " 82,\n",
       " 83,\n",
       " 84,\n",
       " 85,\n",
       " 86,\n",
       " 87,\n",
       " 88,\n",
       " 89,\n",
       " 90,\n",
       " 91,\n",
       " 92,\n",
       " 93,\n",
       " 94,\n",
       " 95,\n",
       " 96,\n",
       " 97,\n",
       " 98,\n",
       " 99,\n",
       " 100]"
      ]
     },
     "execution_count": 22,
     "metadata": {},
     "output_type": "execute_result"
    }
   ],
   "source": [
    "# Before we were making lists like this: \n",
    "range_list = [i for i in range(0,101)]\n",
    "range_list"
   ]
  },
  {
   "cell_type": "markdown",
   "id": "1f6b14a4",
   "metadata": {},
   "source": [
    "# Two dimensional lists and arrays"
   ]
  },
  {
   "cell_type": "markdown",
   "id": "bdd1e866",
   "metadata": {},
   "source": [
    "# Create two dimensional list"
   ]
  },
  {
   "cell_type": "code",
   "execution_count": 26,
   "id": "7bd3198c",
   "metadata": {},
   "outputs": [
    {
     "data": {
      "text/plain": [
       "[[1, 2, 3], [4, 5, 6], [7, 8, 9]]"
      ]
     },
     "execution_count": 26,
     "metadata": {},
     "output_type": "execute_result"
    }
   ],
   "source": [
    "list_of_lists = [[1,2,3],[4,5,6],[7,8,9]]\n",
    "list_of_lists"
   ]
  },
  {
   "cell_type": "markdown",
   "id": "17520b3c",
   "metadata": {},
   "source": [
    "# transform that two dimensional list to a two dimensional array"
   ]
  },
  {
   "cell_type": "code",
   "execution_count": 27,
   "id": "9703e1a7",
   "metadata": {},
   "outputs": [
    {
     "data": {
      "text/plain": [
       "array([[1, 2, 3],\n",
       "       [4, 5, 6],\n",
       "       [7, 8, 9]])"
      ]
     },
     "execution_count": 27,
     "metadata": {},
     "output_type": "execute_result"
    }
   ],
   "source": [
    "np.array(list_of_lists)"
   ]
  },
  {
   "cell_type": "code",
   "execution_count": 28,
   "id": "9c4185b1",
   "metadata": {},
   "outputs": [
    {
     "data": {
      "text/plain": [
       "array([[1, 2, 3],\n",
       "       [4, 5, 6],\n",
       "       [7, 8, 9]])"
      ]
     },
     "execution_count": 28,
     "metadata": {},
     "output_type": "execute_result"
    }
   ],
   "source": [
    "two_dim_array = np.array(list_of_lists)\n",
    "two_dim_array"
   ]
  },
  {
   "cell_type": "markdown",
   "id": "e90dabc5",
   "metadata": {},
   "source": [
    "# Call the 0th row of the two_dim_array"
   ]
  },
  {
   "cell_type": "code",
   "execution_count": 29,
   "id": "68484294",
   "metadata": {},
   "outputs": [
    {
     "data": {
      "text/plain": [
       "array([1, 2, 3])"
      ]
     },
     "execution_count": 29,
     "metadata": {},
     "output_type": "execute_result"
    }
   ],
   "source": [
    "two_dim_array[0]"
   ]
  },
  {
   "cell_type": "code",
   "execution_count": null,
   "id": "da71b2f1",
   "metadata": {},
   "outputs": [],
   "source": [
    "# call the 0th element of the 0th row:"
   ]
  },
  {
   "cell_type": "code",
   "execution_count": 40,
   "id": "04f5ed7b",
   "metadata": {},
   "outputs": [
    {
     "data": {
      "text/plain": [
       "1"
      ]
     },
     "execution_count": 40,
     "metadata": {},
     "output_type": "execute_result"
    }
   ],
   "source": [
    "two_dim_array[0][0]"
   ]
  },
  {
   "cell_type": "code",
   "execution_count": null,
   "id": "b22b4d01",
   "metadata": {},
   "outputs": [],
   "source": [
    "# call the 1st element of the 0th row:"
   ]
  },
  {
   "cell_type": "code",
   "execution_count": 39,
   "id": "102dc043",
   "metadata": {},
   "outputs": [
    {
     "data": {
      "text/plain": [
       "2"
      ]
     },
     "execution_count": 39,
     "metadata": {},
     "output_type": "execute_result"
    }
   ],
   "source": [
    "two_dim_array[0][1]"
   ]
  },
  {
   "cell_type": "markdown",
   "id": "1e8ea748",
   "metadata": {},
   "source": [
    "# use a for loop to call the first index in the two_dim_array as i \n",
    "\n",
    "# calling two_dim_array[i] will yield the ith row"
   ]
  },
  {
   "cell_type": "code",
   "execution_count": 41,
   "id": "9aec7da0",
   "metadata": {},
   "outputs": [
    {
     "name": "stdout",
     "output_type": "stream",
     "text": [
      "0\n",
      "[1 2 3]\n",
      "1\n",
      "[4 5 6]\n",
      "2\n",
      "[7 8 9]\n"
     ]
    }
   ],
   "source": [
    "for i in range(len(two_dim_array)):\n",
    "    print(i)\n",
    "    print(two_dim_array[i])"
   ]
  },
  {
   "cell_type": "markdown",
   "id": "a35aa357",
   "metadata": {},
   "source": [
    "## passing the row to a second for loop will cycle through\n",
    "# the second (row) index as j. Calling row[j] will yield\n",
    "# the j^(th) value from the row"
   ]
  },
  {
   "cell_type": "code",
   "execution_count": 36,
   "id": "ee6e3f13",
   "metadata": {
    "scrolled": true
   },
   "outputs": [
    {
     "name": "stdout",
     "output_type": "stream",
     "text": [
      "i,j:\n",
      "0 0\n",
      "1\n",
      "val: 1\n",
      "0 1\n",
      "2\n",
      "val: 2\n",
      "0 2\n",
      "3\n",
      "val: 3\n",
      "1 0\n",
      "4\n",
      "val: 4\n",
      "1 1\n",
      "5\n",
      "val: 5\n",
      "1 2\n",
      "6\n",
      "val: 6\n",
      "2 0\n",
      "7\n",
      "val: 7\n",
      "2 1\n",
      "8\n",
      "val: 8\n",
      "2 2\n",
      "9\n",
      "val: 9\n"
     ]
    }
   ],
   "source": [
    "print(\"i,j:\")\n",
    "for i in range(len(two_dim_array)):\n",
    "    row = two_dim_array[i]   \n",
    "    for j in range(len(row)):\n",
    "        print(i,j)\n",
    "        print(row[j])\n",
    "        print(\"val:\", row[j])"
   ]
  },
  {
   "cell_type": "code",
   "execution_count": 38,
   "id": "560a4443",
   "metadata": {
    "scrolled": true
   },
   "outputs": [
    {
     "name": "stdout",
     "output_type": "stream",
     "text": [
      "[1 2 3]\n",
      "1\n",
      "2\n",
      "3\n",
      "[4 5 6]\n",
      "4\n",
      "5\n",
      "6\n",
      "[7 8 9]\n",
      "7\n",
      "8\n",
      "9\n"
     ]
    }
   ],
   "source": [
    "for row in two_dim_array:\n",
    "    print(row)\n",
    "    for val in row:\n",
    "        print(val)"
   ]
  },
  {
   "cell_type": "markdown",
   "id": "58d03233",
   "metadata": {},
   "source": [
    "# np.zeros(), np.ones(), np.empty\n",
    "# np.zeros_like(ex: list/array), np.ones_like(), np.empty_like"
   ]
  },
  {
   "cell_type": "code",
   "execution_count": 42,
   "id": "509c1e2d",
   "metadata": {},
   "outputs": [
    {
     "data": {
      "text/plain": [
       "array([[0., 0., 0., 0., 0., 0., 0., 0., 0., 0.],\n",
       "       [0., 0., 0., 0., 0., 0., 0., 0., 0., 0.],\n",
       "       [0., 0., 0., 0., 0., 0., 0., 0., 0., 0.],\n",
       "       [0., 0., 0., 0., 0., 0., 0., 0., 0., 0.],\n",
       "       [0., 0., 0., 0., 0., 0., 0., 0., 0., 0.],\n",
       "       [0., 0., 0., 0., 0., 0., 0., 0., 0., 0.],\n",
       "       [0., 0., 0., 0., 0., 0., 0., 0., 0., 0.],\n",
       "       [0., 0., 0., 0., 0., 0., 0., 0., 0., 0.],\n",
       "       [0., 0., 0., 0., 0., 0., 0., 0., 0., 0.],\n",
       "       [0., 0., 0., 0., 0., 0., 0., 0., 0., 0.]])"
      ]
     },
     "execution_count": 42,
     "metadata": {},
     "output_type": "execute_result"
    }
   ],
   "source": [
    "np.zeros((10,10))"
   ]
  },
  {
   "cell_type": "code",
   "execution_count": 43,
   "id": "4d0fbe8f",
   "metadata": {},
   "outputs": [
    {
     "data": {
      "text/plain": [
       "array([[0., 0., 0., 0., 0., 0., 0., 0., 0., 0.],\n",
       "       [0., 0., 0., 0., 0., 0., 0., 0., 0., 0.],\n",
       "       [0., 0., 0., 0., 0., 0., 0., 0., 0., 0.],\n",
       "       [0., 0., 0., 0., 0., 0., 0., 0., 0., 0.],\n",
       "       [0., 0., 0., 0., 0., 0., 0., 0., 0., 0.],\n",
       "       [0., 0., 0., 0., 0., 0., 0., 0., 0., 0.],\n",
       "       [0., 0., 0., 0., 0., 0., 0., 0., 0., 0.],\n",
       "       [0., 0., 0., 0., 0., 0., 0., 0., 0., 0.],\n",
       "       [0., 0., 0., 0., 0., 0., 0., 0., 0., 0.],\n",
       "       [0., 0., 0., 0., 0., 0., 0., 0., 0., 0.]])"
      ]
     },
     "execution_count": 43,
     "metadata": {},
     "output_type": "execute_result"
    }
   ],
   "source": [
    "np.empty((10,10))"
   ]
  },
  {
   "cell_type": "code",
   "execution_count": 44,
   "id": "bf9f4bef",
   "metadata": {},
   "outputs": [
    {
     "data": {
      "text/plain": [
       "array([[1., 1., 1., 1., 1., 1., 1., 1., 1., 1.],\n",
       "       [1., 1., 1., 1., 1., 1., 1., 1., 1., 1.],\n",
       "       [1., 1., 1., 1., 1., 1., 1., 1., 1., 1.],\n",
       "       [1., 1., 1., 1., 1., 1., 1., 1., 1., 1.],\n",
       "       [1., 1., 1., 1., 1., 1., 1., 1., 1., 1.],\n",
       "       [1., 1., 1., 1., 1., 1., 1., 1., 1., 1.],\n",
       "       [1., 1., 1., 1., 1., 1., 1., 1., 1., 1.],\n",
       "       [1., 1., 1., 1., 1., 1., 1., 1., 1., 1.],\n",
       "       [1., 1., 1., 1., 1., 1., 1., 1., 1., 1.],\n",
       "       [1., 1., 1., 1., 1., 1., 1., 1., 1., 1.]])"
      ]
     },
     "execution_count": 44,
     "metadata": {},
     "output_type": "execute_result"
    }
   ],
   "source": [
    "np.ones((10,10))"
   ]
  },
  {
   "cell_type": "code",
   "execution_count": 46,
   "id": "3af09cc3",
   "metadata": {},
   "outputs": [
    {
     "data": {
      "text/plain": [
       "array([[0, 0, 0],\n",
       "       [0, 0, 0],\n",
       "       [0, 0, 0]])"
      ]
     },
     "execution_count": 46,
     "metadata": {},
     "output_type": "execute_result"
    }
   ],
   "source": [
    "l = list_of_lists\n",
    "np.zeros_like(l)"
   ]
  },
  {
   "cell_type": "code",
   "execution_count": 47,
   "id": "e2fbd270",
   "metadata": {},
   "outputs": [
    {
     "data": {
      "text/plain": [
       "array([[1, 1, 1],\n",
       "       [1, 1, 1],\n",
       "       [1, 1, 1]])"
      ]
     },
     "execution_count": 47,
     "metadata": {},
     "output_type": "execute_result"
    }
   ],
   "source": [
    "np.ones_like((l))"
   ]
  },
  {
   "cell_type": "code",
   "execution_count": 48,
   "id": "ae0d32b8",
   "metadata": {},
   "outputs": [
    {
     "data": {
      "text/plain": [
       "array([[           0,            0, 481036337261],\n",
       "       [519691042932, 171798691880, 206158430257],\n",
       "       [210453397548, 176093659184,           41]])"
      ]
     },
     "execution_count": 48,
     "metadata": {},
     "output_type": "execute_result"
    }
   ],
   "source": [
    "np.empty_like(l)"
   ]
  },
  {
   "cell_type": "markdown",
   "id": "37790d48",
   "metadata": {},
   "source": [
    "# log values"
   ]
  },
  {
   "cell_type": "code",
   "execution_count": 49,
   "id": "d28fdd91",
   "metadata": {},
   "outputs": [
    {
     "data": {
      "text/plain": [
       "0.0"
      ]
     },
     "execution_count": 49,
     "metadata": {},
     "output_type": "execute_result"
    }
   ],
   "source": [
    "np.log(1)"
   ]
  },
  {
   "cell_type": "code",
   "execution_count": 50,
   "id": "70b1e762",
   "metadata": {},
   "outputs": [
    {
     "data": {
      "text/plain": [
       "1.0"
      ]
     },
     "execution_count": 50,
     "metadata": {},
     "output_type": "execute_result"
    }
   ],
   "source": [
    "np.log(np.e)"
   ]
  },
  {
   "cell_type": "code",
   "execution_count": 51,
   "id": "2fc2a9d5",
   "metadata": {},
   "outputs": [
    {
     "data": {
      "text/plain": [
       "array([[0.        , 0.69314718, 1.09861229],\n",
       "       [1.38629436, 1.60943791, 1.79175947],\n",
       "       [1.94591015, 2.07944154, 2.19722458]])"
      ]
     },
     "execution_count": 51,
     "metadata": {},
     "output_type": "execute_result"
    }
   ],
   "source": [
    "np.log(two_dim_array)"
   ]
  },
  {
   "cell_type": "code",
   "execution_count": 52,
   "id": "79cf44d4",
   "metadata": {},
   "outputs": [
    {
     "data": {
      "text/plain": [
       "array([[0.        , 0.30103   , 0.47712125],\n",
       "       [0.60205999, 0.69897   , 0.77815125],\n",
       "       [0.84509804, 0.90308999, 0.95424251]])"
      ]
     },
     "execution_count": 52,
     "metadata": {},
     "output_type": "execute_result"
    }
   ],
   "source": [
    "np.log10(two_dim_array)"
   ]
  },
  {
   "cell_type": "code",
   "execution_count": 53,
   "id": "12aaae39",
   "metadata": {},
   "outputs": [],
   "source": [
    "# Special values of numpy:"
   ]
  },
  {
   "cell_type": "code",
   "execution_count": 56,
   "id": "8a3bbb87",
   "metadata": {},
   "outputs": [
    {
     "data": {
      "text/plain": [
       "(3.141592653589793, 2.718281828459045, 1.0, inf, nan)"
      ]
     },
     "execution_count": 56,
     "metadata": {},
     "output_type": "execute_result"
    }
   ],
   "source": [
    "pi = np.pi\n",
    "e = np.e\n",
    "lne = np.log(e)\n",
    "infinity = np.inf\n",
    "null_val = np.nan\n",
    "pi, e, lne, infinity, null_val"
   ]
  },
  {
   "cell_type": "code",
   "execution_count": null,
   "id": "3ef49ab0",
   "metadata": {},
   "outputs": [],
   "source": []
  }
 ],
 "metadata": {
  "kernelspec": {
   "display_name": "Python 3 (ipykernel)",
   "language": "python",
   "name": "python3"
  },
  "language_info": {
   "codemirror_mode": {
    "name": "ipython",
    "version": 3
   },
   "file_extension": ".py",
   "mimetype": "text/x-python",
   "name": "python",
   "nbconvert_exporter": "python",
   "pygments_lexer": "ipython3",
   "version": "3.9.13"
  }
 },
 "nbformat": 4,
 "nbformat_minor": 5
}
