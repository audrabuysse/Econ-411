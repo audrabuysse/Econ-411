{
 "cells": [
  {
   "cell_type": "markdown",
   "id": "af6783ea",
   "metadata": {},
   "source": [
    "# Project 2 - Working with Lists"
   ]
  },
  {
   "cell_type": "code",
   "execution_count": null,
   "id": "f33914ed",
   "metadata": {},
   "outputs": [],
   "source": [
    "# Working with Lists\n",
    "New Concepts\tDescription\n",
    "Dynamic List\tA dynamic list is encapsulated by brackets ([]). A list is mutable. Elements can be added to or deleted from a list on the fly.\n",
    "List Concatenation\tTwo lists can be joined together in the same manner that strings are concatenated.\n",
    "List Indexing\tLists are indexed with the first element being indexed as zero and the last element as the length of (number of elements in) the list less one. Indexes are called using brackets – i.e., lst[0] calls the 0th element in the list."
   ]
  },
  {
   "cell_type": "code",
   "execution_count": 2,
   "id": "5a83e49d",
   "metadata": {},
   "outputs": [
    {
     "data": {
      "text/plain": [
       "[]"
      ]
     },
     "execution_count": 2,
     "metadata": {},
     "output_type": "execute_result"
    }
   ],
   "source": [
    "empty_list = []\n",
    "empty_list"
   ]
  },
  {
   "cell_type": "code",
   "execution_count": 3,
   "id": "2f71be4e",
   "metadata": {},
   "outputs": [
    {
     "data": {
      "text/plain": [
       "[1, 2, 3, 4, 5]"
      ]
     },
     "execution_count": 3,
     "metadata": {},
     "output_type": "execute_result"
    }
   ],
   "source": [
    "int_list = [1,2,3,4,5]\n",
    "int_list"
   ]
  },
  {
   "cell_type": "code",
   "execution_count": 4,
   "id": "378d69a2",
   "metadata": {},
   "outputs": [
    {
     "data": {
      "text/plain": [
       "[1.0, 2.0, 3.0, 4.0, 5.0]"
      ]
     },
     "execution_count": 4,
     "metadata": {},
     "output_type": "execute_result"
    }
   ],
   "source": [
    "float_list = [1.,2.,3.,4.,5.]\n",
    "float_list"
   ]
  },
  {
   "cell_type": "code",
   "execution_count": 5,
   "id": "4c64f7a9",
   "metadata": {},
   "outputs": [
    {
     "data": {
      "text/plain": [
       "['Many words', 'impoverished meaning']"
      ]
     },
     "execution_count": 5,
     "metadata": {},
     "output_type": "execute_result"
    }
   ],
   "source": [
    "string_list = [\"Many words\", \"impoverished meaning\"]\n",
    "string_list"
   ]
  },
  {
   "cell_type": "code",
   "execution_count": 6,
   "id": "00e4c1f2",
   "metadata": {},
   "outputs": [
    {
     "data": {
      "text/plain": [
       "[1, 2.0, 'Mix it up']"
      ]
     },
     "execution_count": 6,
     "metadata": {},
     "output_type": "execute_result"
    }
   ],
   "source": [
    "[1,2., \"Mix it up\"]"
   ]
  },
  {
   "cell_type": "code",
   "execution_count": 7,
   "id": "5b2adc41",
   "metadata": {},
   "outputs": [
    {
     "data": {
      "text/plain": [
       "([1, 2.0, 'Mix it up'], list)"
      ]
     },
     "execution_count": 7,
     "metadata": {},
     "output_type": "execute_result"
    }
   ],
   "source": [
    "mixed_list = [1, 2., \"Mix it up\"]\n",
    "mixed_list, type(mixed_list)"
   ]
  },
  {
   "cell_type": "markdown",
   "id": "7872d88c",
   "metadata": {},
   "source": [
    "## Concatenation: Lists"
   ]
  },
  {
   "cell_type": "code",
   "execution_count": 8,
   "id": "970fc0db",
   "metadata": {},
   "outputs": [
    {
     "data": {
      "text/plain": [
       "'ab'"
      ]
     },
     "execution_count": 8,
     "metadata": {},
     "output_type": "execute_result"
    }
   ],
   "source": [
    "\"a\" + \"b\""
   ]
  },
  {
   "cell_type": "code",
   "execution_count": 9,
   "id": "0ed5b590",
   "metadata": {},
   "outputs": [
    {
     "data": {
      "text/plain": [
       "[1, 2]"
      ]
     },
     "execution_count": 9,
     "metadata": {},
     "output_type": "execute_result"
    }
   ],
   "source": [
    "[1] + [2]"
   ]
  },
  {
   "cell_type": "code",
   "execution_count": 10,
   "id": "5682c21d",
   "metadata": {},
   "outputs": [
    {
     "data": {
      "text/plain": [
       "[1, 2]"
      ]
     },
     "execution_count": 10,
     "metadata": {},
     "output_type": "execute_result"
    }
   ],
   "source": [
    "list1 = [1]\n",
    "list2 = [2]\n",
    "join_lists = list1 + list2\n",
    "join_lists"
   ]
  },
  {
   "cell_type": "code",
   "execution_count": 11,
   "id": "b1e929b4",
   "metadata": {},
   "outputs": [
    {
     "data": {
      "text/plain": [
       "'12'"
      ]
     },
     "execution_count": 11,
     "metadata": {},
     "output_type": "execute_result"
    }
   ],
   "source": [
    "# similar to concatenating strings\n",
    "\n",
    "str1 = \"1\"\n",
    "str2 = \"2\"\n",
    "join_strs = str1 + str2\n",
    "join_strs"
   ]
  },
  {
   "cell_type": "markdown",
   "id": "74b9fd73",
   "metadata": {},
   "source": [
    "For Loops and range"
   ]
  },
  {
   "cell_type": "markdown",
   "id": "5b624bd8",
   "metadata": {},
   "source": [
    "a for loop using in range will cycle through variable i from integer j to k - 1 by increments of l\n",
    "\n",
    "for i in range(j, k, l):\n",
    "    \n",
    "    execute script"
   ]
  },
  {
   "cell_type": "code",
   "execution_count": 16,
   "id": "3dcaba20",
   "metadata": {},
   "outputs": [
    {
     "name": "stdout",
     "output_type": "stream",
     "text": [
      "1\n",
      "2\n",
      "3\n",
      "4\n",
      "5\n",
      "6\n",
      "7\n",
      "8\n",
      "9\n"
     ]
    }
   ],
   "source": [
    "for i in range(1,10):\n",
    "    print(i)"
   ]
  },
  {
   "cell_type": "code",
   "execution_count": 18,
   "id": "efb07fb8",
   "metadata": {},
   "outputs": [
    {
     "name": "stdout",
     "output_type": "stream",
     "text": [
      "5050\n"
     ]
    }
   ],
   "source": [
    "total = 0\n",
    "for i in range(1,101):\n",
    "    total = total + i\n",
    "print(total)"
   ]
  },
  {
   "cell_type": "code",
   "execution_count": 22,
   "id": "01d864d2",
   "metadata": {
    "scrolled": true
   },
   "outputs": [
    {
     "name": "stdout",
     "output_type": "stream",
     "text": [
      "1 1\n",
      "2 3\n",
      "3 6\n",
      "4 10\n",
      "5 15\n",
      "6 21\n",
      "7 28\n",
      "8 36\n",
      "9 45\n",
      "10 55\n",
      "11 66\n",
      "12 78\n",
      "13 91\n",
      "14 105\n",
      "15 120\n",
      "16 136\n",
      "17 153\n",
      "18 171\n",
      "19 190\n",
      "20 210\n",
      "21 231\n",
      "22 253\n",
      "23 276\n",
      "24 300\n",
      "25 325\n",
      "26 351\n",
      "27 378\n",
      "28 406\n",
      "29 435\n",
      "30 465\n",
      "31 496\n",
      "32 528\n",
      "33 561\n",
      "34 595\n",
      "35 630\n",
      "36 666\n",
      "37 703\n",
      "38 741\n",
      "39 780\n",
      "40 820\n",
      "41 861\n",
      "42 903\n",
      "43 946\n",
      "44 990\n",
      "45 1035\n",
      "46 1081\n",
      "47 1128\n",
      "48 1176\n",
      "49 1225\n",
      "50 1275\n",
      "51 1326\n",
      "52 1378\n",
      "53 1431\n",
      "54 1485\n",
      "55 1540\n",
      "56 1596\n",
      "57 1653\n",
      "58 1711\n",
      "59 1770\n",
      "60 1830\n",
      "61 1891\n",
      "62 1953\n",
      "63 2016\n",
      "64 2080\n",
      "65 2145\n",
      "66 2211\n",
      "67 2278\n",
      "68 2346\n",
      "69 2415\n",
      "70 2485\n",
      "71 2556\n",
      "72 2628\n",
      "73 2701\n",
      "74 2775\n",
      "75 2850\n",
      "76 2926\n",
      "77 3003\n",
      "78 3081\n",
      "79 3160\n",
      "80 3240\n",
      "81 3321\n",
      "82 3403\n",
      "83 3486\n",
      "84 3570\n",
      "85 3655\n",
      "86 3741\n",
      "87 3828\n",
      "88 3916\n",
      "89 4005\n",
      "90 4095\n",
      "91 4186\n",
      "92 4278\n",
      "93 4371\n",
      "94 4465\n",
      "95 4560\n",
      "96 4656\n",
      "97 4753\n",
      "98 4851\n",
      "99 4950\n",
      "100 5050\n",
      "1 1\n",
      "3 4\n",
      "5 9\n",
      "7 16\n",
      "9 25\n",
      "11 36\n",
      "13 49\n",
      "15 64\n",
      "17 81\n",
      "19 100\n",
      "21 121\n",
      "23 144\n",
      "25 169\n",
      "27 196\n",
      "29 225\n",
      "31 256\n",
      "33 289\n",
      "35 324\n",
      "37 361\n",
      "39 400\n",
      "41 441\n",
      "43 484\n",
      "45 529\n",
      "47 576\n",
      "49 625\n",
      "51 676\n",
      "53 729\n",
      "55 784\n",
      "57 841\n",
      "59 900\n",
      "61 961\n",
      "63 1024\n",
      "65 1089\n",
      "67 1156\n",
      "69 1225\n",
      "71 1296\n",
      "73 1369\n",
      "75 1444\n",
      "77 1521\n",
      "79 1600\n",
      "81 1681\n",
      "83 1764\n",
      "85 1849\n",
      "87 1936\n",
      "89 2025\n",
      "91 2116\n",
      "93 2209\n",
      "95 2304\n",
      "97 2401\n",
      "99 2500\n"
     ]
    }
   ],
   "source": [
    "total = 0 \n",
    "for i in range(1, 101):\n",
    "    total = total + i\n",
    "    print(i, total)\n",
    "    \n",
    "total = 0\n",
    "for i in range(1, 101, 2):\n",
    "    total = total + i\n",
    "    print(i, total)"
   ]
  },
  {
   "cell_type": "code",
   "execution_count": 21,
   "id": "0fbf20ac",
   "metadata": {},
   "outputs": [
    {
     "name": "stdout",
     "output_type": "stream",
     "text": [
      "543\n",
      "342\n",
      "6\n",
      "435\n",
      "543\n",
      "j False\n",
      "h False\n",
      "t False\n",
      "i False\n",
      "4 False\n",
      "k True\n",
      "3 False\n",
      "h False\n",
      "u False\n",
      "3 False\n",
      "i False\n"
     ]
    }
   ],
   "source": [
    "list1 = [543, 342, 6, 435, 543]\n",
    "str1 = \"jhti4k3hu3i\"\n",
    "\n",
    "for val in list1:\n",
    "    print(val)\n",
    "\n",
    "for string in str1:\n",
    "    print(string, string == \"k\")"
   ]
  },
  {
   "cell_type": "code",
   "execution_count": 1,
   "id": "60420fd8",
   "metadata": {},
   "outputs": [
    {
     "data": {
      "text/plain": [
       "[1, 2, 3, 4]"
      ]
     },
     "execution_count": 1,
     "metadata": {},
     "output_type": "execute_result"
    }
   ],
   "source": [
    "list1 = [1,2]\n",
    "list2 = [3,4]\n",
    "list1 + list2"
   ]
  },
  {
   "cell_type": "markdown",
   "id": "fa7ee02d",
   "metadata": {},
   "source": [
    "## More on range"
   ]
  },
  {
   "cell_type": "code",
   "execution_count": 2,
   "id": "c3eb9b23",
   "metadata": {},
   "outputs": [],
   "source": [
    "## Not just for for loops"
   ]
  },
  {
   "cell_type": "code",
   "execution_count": 3,
   "id": "061f1f5a",
   "metadata": {},
   "outputs": [
    {
     "name": "stdout",
     "output_type": "stream",
     "text": [
      "0\n",
      "2\n",
      "4\n",
      "6\n",
      "8\n"
     ]
    }
   ],
   "source": [
    "for i in range (0,9,2):\n",
    "    print(i)"
   ]
  },
  {
   "cell_type": "code",
   "execution_count": 5,
   "id": "5774c37a",
   "metadata": {},
   "outputs": [
    {
     "name": "stdout",
     "output_type": "stream",
     "text": [
      "0\n",
      "2\n",
      "4\n",
      "6\n",
      "8\n",
      "[1, 2, 0, 2, 4, 6, 8, 0, 2, 4, 6, 8]\n"
     ]
    }
   ],
   "source": [
    "# create a list by appending values to the list\n",
    "for i in range (0,9,2):\n",
    "    print (i)\n",
    "    list1.append(i)\n",
    "    \n",
    "\n",
    "print(list1)"
   ]
  },
  {
   "cell_type": "code",
   "execution_count": 13,
   "id": "b30df937",
   "metadata": {},
   "outputs": [
    {
     "data": {
      "text/plain": [
       "[0, 1, 2, 3, 4, 5, 6, 7, 8]"
      ]
     },
     "execution_count": 13,
     "metadata": {},
     "output_type": "execute_result"
    }
   ],
   "source": [
    "# create a list by passing range (i,j,l), \n",
    "# a more efficient alternative to using append within a for loop\n",
    "list2 = list(range(0,9,1))\n",
    "list2"
   ]
  },
  {
   "cell_type": "markdown",
   "id": "da91688b",
   "metadata": {},
   "source": [
    "### Using len() with range"
   ]
  },
  {
   "cell_type": "code",
   "execution_count": 10,
   "id": "1047dbf4",
   "metadata": {},
   "outputs": [
    {
     "data": {
      "text/plain": [
       "3"
      ]
     },
     "execution_count": 10,
     "metadata": {},
     "output_type": "execute_result"
    }
   ],
   "source": [
    "list2_len = len(list2)\n",
    "list2_len\n",
    "# for i in range ()"
   ]
  },
  {
   "cell_type": "code",
   "execution_count": 14,
   "id": "eecf66c2",
   "metadata": {},
   "outputs": [
    {
     "name": "stdout",
     "output_type": "stream",
     "text": [
      "i val\n",
      "0 0\n",
      "1 1\n",
      "2 2\n",
      "3 3\n",
      "4 4\n",
      "5 5\n",
      "6 6\n",
      "7 7\n",
      "8 8\n"
     ]
    }
   ],
   "source": [
    "list2_len = len(list2)\n",
    "print(\"i\", \"val\")\n",
    "for i in range (list2_len):\n",
    "    print(i, list2[i])"
   ]
  },
  {
   "cell_type": "markdown",
   "id": "d2315b86",
   "metadata": {},
   "source": [
    "## Nested for-loop"
   ]
  },
  {
   "cell_type": "code",
   "execution_count": 19,
   "id": "51427b24",
   "metadata": {},
   "outputs": [
    {
     "name": "stdout",
     "output_type": "stream",
     "text": [
      "i list\n",
      "1 [0, 1, 2, 3, 4, 5, 6, 7, 8]\n",
      "length: 9\n",
      "j val\n",
      "0 0\n",
      "1 1\n",
      "2 2\n",
      "3 3\n",
      "4 4\n",
      "5 5\n",
      "6 6\n",
      "7 7\n",
      "8 8\n",
      "2 [0, 2, 4, 6, 8]\n",
      "length: 5\n",
      "j val\n",
      "0 0\n",
      "1 2\n",
      "2 4\n",
      "3 6\n",
      "4 8\n",
      "3 [0, 3, 6]\n",
      "length: 3\n",
      "j val\n",
      "0 0\n",
      "1 3\n",
      "2 6\n",
      "4 [0, 4, 8]\n",
      "length: 3\n",
      "j val\n",
      "0 0\n",
      "1 4\n",
      "2 8\n",
      "5 [0, 5]\n",
      "length: 2\n",
      "j val\n",
      "0 0\n",
      "1 5\n"
     ]
    }
   ],
   "source": [
    "list2_len = len(list2)\n",
    "print(\"i\", \"list\")\n",
    "\n",
    "# create a new list2 according to the interval values called by the for loop\n",
    "for interval in range(1,6): \n",
    "    list2 = list(range(0,9, interval))\n",
    "    print(interval, list2)\n",
    "    list2_len = len(list2)\n",
    "    print(\"length:\", list2_len)\n",
    "    print(\"j\", \"val\")\n",
    "    \n",
    "    for j in range(list2_len):\n",
    "        print(j, list2[j])\n",
    "    \n",
    "# for i in range (list2_len):\n",
    "\n",
    "# print (i, list2[i])"
   ]
  },
  {
   "cell_type": "markdown",
   "id": "a5993b7b",
   "metadata": {},
   "source": [
    "## If statements and boolean variables"
   ]
  },
  {
   "cell_type": "code",
   "execution_count": 20,
   "id": "111f392d",
   "metadata": {},
   "outputs": [
    {
     "data": {
      "text/plain": [
       "0"
      ]
     },
     "execution_count": 20,
     "metadata": {},
     "output_type": "execute_result"
    }
   ],
   "source": [
    "## Boolean - a variable that is a zero or a one (binary)\n",
    "True * False"
   ]
  },
  {
   "cell_type": "code",
   "execution_count": 21,
   "id": "470806da",
   "metadata": {},
   "outputs": [
    {
     "data": {
      "text/plain": [
       "1"
      ]
     },
     "execution_count": 21,
     "metadata": {},
     "output_type": "execute_result"
    }
   ],
   "source": [
    "True * True"
   ]
  },
  {
   "cell_type": "code",
   "execution_count": 22,
   "id": "849206ac",
   "metadata": {},
   "outputs": [
    {
     "data": {
      "text/plain": [
       "0"
      ]
     },
     "execution_count": 22,
     "metadata": {},
     "output_type": "execute_result"
    }
   ],
   "source": [
    "False * False"
   ]
  },
  {
   "cell_type": "code",
   "execution_count": 23,
   "id": "a77cec89",
   "metadata": {},
   "outputs": [
    {
     "data": {
      "text/plain": [
       "True"
      ]
     },
     "execution_count": 23,
     "metadata": {},
     "output_type": "execute_result"
    }
   ],
   "source": [
    "True"
   ]
  },
  {
   "cell_type": "code",
   "execution_count": 24,
   "id": "c7775f6e",
   "metadata": {},
   "outputs": [
    {
     "data": {
      "text/plain": [
       "False"
      ]
     },
     "execution_count": 24,
     "metadata": {},
     "output_type": "execute_result"
    }
   ],
   "source": [
    "False"
   ]
  },
  {
   "cell_type": "code",
   "execution_count": 29,
   "id": "071934af",
   "metadata": {},
   "outputs": [
    {
     "name": "stdout",
     "output_type": "stream",
     "text": [
      "True\n",
      "False\n",
      "if boolean2 is false, then you just printed this text. If not, then nothing happened\n"
     ]
    }
   ],
   "source": [
    "boolean = True\n",
    "\n",
    "# conditional statement // if statement\n",
    "if boolean: # if boolean == True\n",
    "    print(boolean)\n",
    "    \n",
    "boolean2 = False\n",
    "if boolean2 == False: # If boolean2 == True\n",
    "    print(boolean2)\n",
    "    print(\"if boolean2 is false, then you just printed this text. If not, then nothing happened\")\n"
   ]
  },
  {
   "cell_type": "code",
   "execution_count": 1,
   "id": "3d95c49d",
   "metadata": {},
   "outputs": [
    {
     "data": {
      "text/plain": [
       "True"
      ]
     },
     "execution_count": 1,
     "metadata": {},
     "output_type": "execute_result"
    }
   ],
   "source": [
    "False == False"
   ]
  },
  {
   "cell_type": "code",
   "execution_count": 2,
   "id": "aa67da2e",
   "metadata": {},
   "outputs": [
    {
     "data": {
      "text/plain": [
       "True"
      ]
     },
     "execution_count": 2,
     "metadata": {},
     "output_type": "execute_result"
    }
   ],
   "source": [
    "1 == True"
   ]
  },
  {
   "cell_type": "code",
   "execution_count": 3,
   "id": "234ed5fe",
   "metadata": {},
   "outputs": [
    {
     "data": {
      "text/plain": [
       "False"
      ]
     },
     "execution_count": 3,
     "metadata": {},
     "output_type": "execute_result"
    }
   ],
   "source": [
    "# != is \"not equal to\"\n",
    "1 != True"
   ]
  },
  {
   "cell_type": "code",
   "execution_count": 6,
   "id": "4d5b4fa8",
   "metadata": {},
   "outputs": [
    {
     "name": "stdout",
     "output_type": "stream",
     "text": [
      "0 The\n",
      "1 cat\n",
      "2 ate\n",
      "3 the\n",
      "4 snow\n"
     ]
    }
   ],
   "source": [
    "words = [\"The\", \"cat\", \"ate\", \"the\", \"snow\"]\n",
    "# want to know if the word \"ate\" appears in the list and if so, where?\n",
    "\n",
    "num_words = len(words)\n",
    "for i in range(num_words):\n",
    "    word = words[i]\n",
    "    is_ate = word == \"ate\"\n",
    "    print(i, words[i])"
   ]
  },
  {
   "cell_type": "code",
   "execution_count": 16,
   "id": "87d973f0",
   "metadata": {},
   "outputs": [
    {
     "data": {
      "text/plain": [
       "False"
      ]
     },
     "execution_count": 16,
     "metadata": {},
     "output_type": "execute_result"
    }
   ],
   "source": [
    "is_ate = word == \"ate\"\n",
    "is_ate"
   ]
  },
  {
   "cell_type": "markdown",
   "id": "737e7401",
   "metadata": {},
   "source": [
    "# Use a boolean variable and a conditional statement (if statement) to track the appearance of the word \"ate\""
   ]
  },
  {
   "cell_type": "code",
   "execution_count": 15,
   "id": "3a88a1b5",
   "metadata": {},
   "outputs": [
    {
     "name": "stdout",
     "output_type": "stream",
     "text": [
      "0 The\n",
      "Is the word, \"ate\"?: False\n",
      "1 cat\n",
      "Is the word, \"ate\"?: False\n",
      "2 ate\n",
      "Is the word, \"ate\"?: True\n",
      "3 the\n",
      "Is the word, \"ate\"?: False\n",
      "4 snow\n",
      "Is the word, \"ate\"?: False\n"
     ]
    },
    {
     "data": {
      "text/plain": [
       "[2]"
      ]
     },
     "execution_count": 15,
     "metadata": {},
     "output_type": "execute_result"
    }
   ],
   "source": [
    "words = [\"The\", \"cat\", \"ate\", \"the\", \"snow\"]\n",
    "# does the word \"ate\" appear in the list? If so, where?\n",
    "ate_index_list = []\n",
    "\n",
    "num_words = len(words)\n",
    "for i in range (num_words):\n",
    "    word = words[i]\n",
    "    print(i, word)\n",
    "    # is ate is a boolean variable that tells whether or not the current word is \"ate\"\n",
    "    is_ate = word == \"ate\"\n",
    "    print(\"Is the word, \\\"ate\\\"?:\", is_ate)\n",
    "    # we used our for loop logic and tracked by index where the \"ate\" is\n",
    "    \n",
    "    # if the word is \"ate\", then add the index to the list so that we can have \n",
    "    # an easy to reference record of the indices where \"ate\" appears\n",
    "    if is_ate:\n",
    "        ate_index_list.append(i)\n",
    "ate_index_list\n",
    "    "
   ]
  },
  {
   "cell_type": "markdown",
   "id": "119a6c1e",
   "metadata": {},
   "source": [
    "##if, else, and elif"
   ]
  },
  {
   "cell_type": "code",
   "execution_count": 20,
   "id": "a6c7ae89",
   "metadata": {},
   "outputs": [
    {
     "name": "stdout",
     "output_type": "stream",
     "text": [
      "1 is not greater than 10\n",
      "4 is not greater than 10\n",
      "5 is not greater than 10\n",
      "8 is not greater than 10\n",
      "122 is greater than 10\n",
      "454 is greater than 10\n",
      "5 is not greater than 10\n",
      "67 is greater than 10\n",
      "87 is greater than 10\n",
      "4 is not greater than 10\n",
      "3 is not greater than 10\n",
      "2 is not greater than 10\n"
     ]
    }
   ],
   "source": [
    "random_numbers = [1,4,5,8,122,454,5,67,87,4,3,2]\n",
    "\n",
    "# is the number greater than 10?\n",
    "not_greater_than_10 = []\n",
    "greater_than_10 = []\n",
    "for number in random_numbers:\n",
    "    if number > 10:\n",
    "        print(number, \"is greater than 10\")\n",
    "        greater_than_10.append(number)\n",
    "    else:\n",
    "        print(number, \"is not greater than 10\")\n",
    "        not_greater_than_10.append(number)"
   ]
  },
  {
   "cell_type": "code",
   "execution_count": 21,
   "id": "05e903ea",
   "metadata": {},
   "outputs": [
    {
     "data": {
      "text/plain": [
       "[1, 4, 5, 8, 5, 4, 3, 2]"
      ]
     },
     "execution_count": 21,
     "metadata": {},
     "output_type": "execute_result"
    }
   ],
   "source": [
    "# you can check the not greater than list\n",
    "not_greater_than_10"
   ]
  },
  {
   "cell_type": "code",
   "execution_count": 22,
   "id": "3188608d",
   "metadata": {},
   "outputs": [
    {
     "data": {
      "text/plain": [
       "[122, 454, 67, 87]"
      ]
     },
     "execution_count": 22,
     "metadata": {},
     "output_type": "execute_result"
    }
   ],
   "source": [
    "# you can check the greater than list\n",
    "greater_than_10"
   ]
  },
  {
   "cell_type": "code",
   "execution_count": 54,
   "id": "87b51581",
   "metadata": {},
   "outputs": [
    {
     "name": "stdout",
     "output_type": "stream",
     "text": [
      "1 is in the domain of 0 and 10\n",
      "4 is in the domain of 0 and 10\n",
      "5 is in the domain of 0 and 10\n",
      "8 is in the domain of 0 and 10\n",
      "122 is greater than 10\n",
      "454 is greater than 10\n",
      "5 is in the domain of 0 and 10\n",
      "67 is greater than 10\n",
      "87 is greater than 10\n",
      "4 is in the domain of 0 and 10\n",
      "3 is in the domain of 0 and 10\n",
      "2 is in the domain of 0 and 10\n",
      "-13 is negative\n",
      "-4 is negative\n",
      "9.5 is in the domain of 0 and 10\n"
     ]
    }
   ],
   "source": [
    "random_numbers = [1,4,5,8,122,454,5,67,87,4,3,2, -13, -4, \"9.5\"]\n",
    "\n",
    "# is the number greater than 10?\n",
    "greater_than_10 = []\n",
    "zero_to_10 = []\n",
    "negative_numbers = []\n",
    "for number in random_numbers:\n",
    "    \n",
    "    #catch string that might be in your list:\n",
    "    if type(number) == str: number = float(number)\n",
    "        \n",
    "    if number > 10:\n",
    "        print(number, \"is greater than 10\")\n",
    "        greater_than_10.append(number)\n",
    "## if a number is 10 or less, it will go to the elif statement and test\n",
    "## that the number is zero or greater\n",
    "    elif number >= 0 :\n",
    "        print(number, \"is in the domain of 0 and 10\")\n",
    "        zero_to_10.append(number)\n",
    "## the else statement catches any numbers that are negative since the prvious conditional\n",
    "## statements checked if the number was zero or greater\n",
    "    else:\n",
    "        print(number, \"is negative\")\n",
    "        negative_numbers.append(number)"
   ]
  },
  {
   "cell_type": "code",
   "execution_count": 55,
   "id": "d6e5c75f",
   "metadata": {},
   "outputs": [
    {
     "data": {
      "text/plain": [
       "([122, 454, 67, 87], [1, 4, 5, 8, 5, 4, 3, 2, 9.5], [-13, -4])"
      ]
     },
     "execution_count": 55,
     "metadata": {},
     "output_type": "execute_result"
    }
   ],
   "source": [
    "greater_than_10, zero_to_10, negative_numbers"
   ]
  },
  {
   "cell_type": "markdown",
   "id": "75cb1c19",
   "metadata": {},
   "source": [
    "# Use del lst[i]"
   ]
  },
  {
   "cell_type": "code",
   "execution_count": 56,
   "id": "93a42776",
   "metadata": {},
   "outputs": [
    {
     "data": {
      "text/plain": [
       "([122, 67, 87], [1, 5, 8, 5, 4, 3, 2, 9.5], [-13])"
      ]
     },
     "execution_count": 56,
     "metadata": {},
     "output_type": "execute_result"
    }
   ],
   "source": [
    "# use del lst[1] to delete the ith element from list\n",
    "\n",
    "del greater_than_10[1]\n",
    "del zero_to_10[1] \n",
    "del negative_numbers[1]\n",
    "greater_than_10, zero_to_10, negative_numbers"
   ]
  },
  {
   "cell_type": "code",
   "execution_count": 57,
   "id": "9656e1e1",
   "metadata": {},
   "outputs": [
    {
     "data": {
      "text/plain": [
       "([122, 67], [1, 5, 8, 5, 4, 3, 2], [])"
      ]
     },
     "execution_count": 57,
     "metadata": {},
     "output_type": "execute_result"
    }
   ],
   "source": [
    "# passing -1 as a list index calls for the last element in the list\n",
    "# passing -1 when using del lst[i] will delete the last element in the list\n",
    "del greater_than_10[-1]\n",
    "del zero_to_10[-1] \n",
    "del negative_numbers[-1]\n",
    "greater_than_10, zero_to_10, negative_numbers"
   ]
  },
  {
   "cell_type": "markdown",
   "id": "a0e972af",
   "metadata": {},
   "source": [
    "# Use lst.remove(val)"
   ]
  },
  {
   "cell_type": "code",
   "execution_count": 63,
   "id": "58243155",
   "metadata": {},
   "outputs": [
    {
     "data": {
      "text/plain": [
       "([], [5, 8, 5, 4, 3, 2])"
      ]
     },
     "execution_count": 63,
     "metadata": {},
     "output_type": "execute_result"
    }
   ],
   "source": [
    "# use lst.remove(val)\n",
    "greater_than_10.remove(122)\n",
    "\n",
    "#if you remove a value that appears twice in the list, then the first \n",
    "# appearance of that value will be removed\n",
    "\n",
    "zero_to_10.remove(1)\n",
    "greater_than_10, zero_to_10"
   ]
  },
  {
   "cell_type": "markdown",
   "id": "063f4c08",
   "metadata": {},
   "source": [
    "## Use lst.pop()"
   ]
  },
  {
   "cell_type": "code",
   "execution_count": 60,
   "id": "1e6e66c6",
   "metadata": {},
   "outputs": [
    {
     "data": {
      "text/plain": [
       "([122], 67)"
      ]
     },
     "execution_count": 60,
     "metadata": {},
     "output_type": "execute_result"
    }
   ],
   "source": [
    "last_val_in_lst = greater_than_10.pop()\n",
    "greater_than_10, last_val_in_lst"
   ]
  },
  {
   "cell_type": "markdown",
   "id": "381936fb",
   "metadata": {},
   "source": [
    "## sorting lists"
   ]
  },
  {
   "cell_type": "code",
   "execution_count": 69,
   "id": "e3420f94",
   "metadata": {},
   "outputs": [
    {
     "data": {
      "text/plain": [
       "([1, 4, 2, 5, 543, 22], [1, 2, 4, 5, 22, 543], [1, 4, 2, 5, 543, 22])"
      ]
     },
     "execution_count": 69,
     "metadata": {},
     "output_type": "execute_result"
    }
   ],
   "source": [
    "# sorted(lst) will sort a copy of lst\n",
    "num_list = [1,4,2,5,543,22]\n",
    "string_list = [\"A\", \"list\", \"of\", \"strings\", \"is\", \"in\", \"string_list\"]\n",
    "num_list, sorted(num_list), num_list"
   ]
  },
  {
   "cell_type": "code",
   "execution_count": 70,
   "id": "731611d0",
   "metadata": {},
   "outputs": [
    {
     "data": {
      "text/plain": [
       "(['A', 'list', 'of', 'strings', 'is', 'in', 'string_list'],\n",
       " ['A', 'in', 'is', 'list', 'of', 'string_list', 'strings'])"
      ]
     },
     "execution_count": 70,
     "metadata": {},
     "output_type": "execute_result"
    }
   ],
   "source": [
    "string_list = [\"A\", \"list\", \"of\", \"strings\", \"is\", \"in\", \"string_list\"]\n",
    "string_list, sorted(string_list)"
   ]
  },
  {
   "cell_type": "code",
   "execution_count": 71,
   "id": "f4eee350",
   "metadata": {},
   "outputs": [
    {
     "data": {
      "text/plain": [
       "[1, 2, 4, 5, 22, 543]"
      ]
     },
     "execution_count": 71,
     "metadata": {},
     "output_type": "execute_result"
    }
   ],
   "source": [
    "# lst.sort() will sort the original list object\n",
    "num_list.sort()\n",
    "num_list"
   ]
  },
  {
   "cell_type": "code",
   "execution_count": 72,
   "id": "f8eae736",
   "metadata": {},
   "outputs": [
    {
     "ename": "TypeError",
     "evalue": "'<' not supported between instances of 'str' and 'int'",
     "output_type": "error",
     "traceback": [
      "\u001b[0;31m---------------------------------------------------------------------------\u001b[0m",
      "\u001b[0;31mTypeError\u001b[0m                                 Traceback (most recent call last)",
      "\u001b[0;32m/var/folders/3j/6nrfh83n4n5dgx0fgb3pdh9c0000gn/T/ipykernel_93620/70546018.py\u001b[0m in \u001b[0;36m<module>\u001b[0;34m\u001b[0m\n\u001b[1;32m      1\u001b[0m \u001b[0;31m# sorting mixed types will generate an error\u001b[0m\u001b[0;34m\u001b[0m\u001b[0;34m\u001b[0m\u001b[0m\n\u001b[0;32m----> 2\u001b[0;31m \u001b[0msorted\u001b[0m\u001b[0;34m(\u001b[0m\u001b[0mnum_list\u001b[0m \u001b[0;34m+\u001b[0m \u001b[0mstring_list\u001b[0m\u001b[0;34m)\u001b[0m\u001b[0;34m\u001b[0m\u001b[0;34m\u001b[0m\u001b[0m\n\u001b[0m",
      "\u001b[0;31mTypeError\u001b[0m: '<' not supported between instances of 'str' and 'int'"
     ]
    }
   ],
   "source": [
    "# sorting mixed types will generate an error\n",
    "# you cannot compare strings and numerical values\n",
    "sorted(num_list + string_list)"
   ]
  },
  {
   "cell_type": "markdown",
   "id": "44770d6b",
   "metadata": {},
   "source": [
    "## list slices"
   ]
  },
  {
   "cell_type": "code",
   "execution_count": 73,
   "id": "913336c5",
   "metadata": {},
   "outputs": [],
   "source": [
    "# a slice of a list takes a subset of values from a list"
   ]
  },
  {
   "cell_type": "code",
   "execution_count": 74,
   "id": "b38858c6",
   "metadata": {},
   "outputs": [
    {
     "data": {
      "text/plain": [
       "([1, 2, 3, 4, 5, 6, 6, 7], [3, 4, 5])"
      ]
     },
     "execution_count": 74,
     "metadata": {},
     "output_type": "execute_result"
    }
   ],
   "source": [
    "lst = [1,2,3,4,5,6,6,7]\n",
    "# compare full list to sliced list\n",
    "lst,lst[2:5]"
   ]
  },
  {
   "cell_type": "code",
   "execution_count": 75,
   "id": "a7a9ed87",
   "metadata": {},
   "outputs": [
    {
     "data": {
      "text/plain": [
       "([1, 2, 3, 4, 5, 6, 6, 7], [1, 3, 5, 6])"
      ]
     },
     "execution_count": 75,
     "metadata": {},
     "output_type": "execute_result"
    }
   ],
   "source": [
    "# count through the index by twos\n",
    "# explicit start and end index values\n",
    "lst, lst[0:-1:2]"
   ]
  },
  {
   "cell_type": "code",
   "execution_count": 76,
   "id": "802b0c52",
   "metadata": {},
   "outputs": [
    {
     "data": {
      "text/plain": [
       "([1, 2, 3, 4, 5, 6, 6, 7], [1, 3, 5, 6])"
      ]
     },
     "execution_count": 76,
     "metadata": {},
     "output_type": "execute_result"
    }
   ],
   "source": [
    "# implicit start and end index values\n",
    "lst, lst [::2]"
   ]
  },
  {
   "cell_type": "markdown",
   "id": "57650f97",
   "metadata": {},
   "source": [
    "## lists and generator functions"
   ]
  },
  {
   "cell_type": "code",
   "execution_count": 79,
   "id": "ea04a16c",
   "metadata": {},
   "outputs": [
    {
     "data": {
      "text/plain": [
       "<generator object <genexpr> at 0x7fb0a008d4a0>"
      ]
     },
     "execution_count": 79,
     "metadata": {},
     "output_type": "execute_result"
    }
   ],
   "source": [
    "# save a generator function without creating a list\n",
    "generator = (i for i in range(20))\n",
    "generator"
   ]
  },
  {
   "cell_type": "code",
   "execution_count": 80,
   "id": "357ef84d",
   "metadata": {},
   "outputs": [
    {
     "data": {
      "text/plain": [
       "[0, 1, 2, 3, 4, 5, 6, 7, 8, 9, 10, 11, 12, 13, 14, 15, 16, 17, 18, 19]"
      ]
     },
     "execution_count": 80,
     "metadata": {},
     "output_type": "execute_result"
    }
   ],
   "source": [
    "list1 = list(generator)\n",
    "list1"
   ]
  },
  {
   "cell_type": "code",
   "execution_count": 81,
   "id": "70d5207a",
   "metadata": {},
   "outputs": [
    {
     "data": {
      "text/plain": [
       "[0, 2, 4, 6, 8, 10, 12, 14, 16, 18, 20, 22, 24, 26, 28, 30, 32, 34, 36, 38]"
      ]
     },
     "execution_count": 81,
     "metadata": {},
     "output_type": "execute_result"
    }
   ],
   "source": [
    "list2 = [2 * i for i in range(20)]\n",
    "list2"
   ]
  },
  {
   "cell_type": "code",
   "execution_count": null,
   "id": "93bc6784",
   "metadata": {},
   "outputs": [],
   "source": []
  }
 ],
 "metadata": {
  "kernelspec": {
   "display_name": "Python 3 (ipykernel)",
   "language": "python",
   "name": "python3"
  },
  "language_info": {
   "codemirror_mode": {
    "name": "ipython",
    "version": 3
   },
   "file_extension": ".py",
   "mimetype": "text/x-python",
   "name": "python",
   "nbconvert_exporter": "python",
   "pygments_lexer": "ipython3",
   "version": "3.9.13"
  }
 },
 "nbformat": 4,
 "nbformat_minor": 5
}
