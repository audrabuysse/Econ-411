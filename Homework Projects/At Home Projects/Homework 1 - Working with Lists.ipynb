{
 "cells": [
  {
   "cell_type": "markdown",
   "id": "d3224c41",
   "metadata": {},
   "source": [
    "# Audra Buysse - Homework 1"
   ]
  },
  {
   "cell_type": "markdown",
   "id": "ecfae8c2",
   "metadata": {},
   "source": [
    "# 1. Create a list of numbers 100 elements in length that counts by 3s - i.e., [3,6,9,12,...]"
   ]
  },
  {
   "cell_type": "code",
   "execution_count": 27,
   "id": "b6f89c85",
   "metadata": {},
   "outputs": [
    {
     "name": "stdout",
     "output_type": "stream",
     "text": [
      "[3, 6, 9, 12, 15, 18, 21, 24, 27, 30, 33, 36, 39, 42, 45, 48, 51, 54, 57, 60, 63, 66, 69, 72, 75, 78, 81, 84, 87, 90, 93, 96, 99, 102, 105, 108, 111, 114, 117, 120, 123, 126, 129, 132, 135, 138, 141, 144, 147, 150, 153, 156, 159, 162, 165, 168, 171, 174, 177, 180, 183, 186, 189, 192, 195, 198, 201, 204, 207, 210, 213, 216, 219, 222, 225, 228, 231, 234, 237, 240, 243, 246, 249, 252, 255, 258, 261, 264, 267, 270, 273, 276, 279, 282, 285, 288, 291, 294, 297, 300]\n"
     ]
    }
   ],
   "source": [
    "list1 = list(range(3,303,3))\n",
    "print(list1)"
   ]
  },
  {
   "cell_type": "code",
   "execution_count": 28,
   "id": "6b3d78fe",
   "metadata": {},
   "outputs": [
    {
     "data": {
      "text/plain": [
       "100"
      ]
     },
     "execution_count": 28,
     "metadata": {},
     "output_type": "execute_result"
    }
   ],
   "source": [
    "len(list1)"
   ]
  },
  {
   "cell_type": "markdown",
   "id": "32e3e555",
   "metadata": {},
   "source": [
    "# 2. Using the list from question 1, create a second list whose elements are the same values converted to strings"
   ]
  },
  {
   "cell_type": "code",
   "execution_count": 29,
   "id": "95ea41d7",
   "metadata": {},
   "outputs": [
    {
     "name": "stdout",
     "output_type": "stream",
     "text": [
      "['3', '6', '9', '12', '15', '18', '21', '24', '27', '30', '33', '36', '39', '42', '45', '48', '51', '54', '57', '60', '63', '66', '69', '72', '75', '78', '81', '84', '87', '90', '93', '96', '99', '102', '105', '108', '111', '114', '117', '120', '123', '126', '129', '132', '135', '138', '141', '144', '147', '150', '153', '156', '159', '162', '165', '168', '171', '174', '177', '180', '183', '186', '189', '192', '195', '198', '201', '204', '207', '210', '213', '216', '219', '222', '225', '228', '231', '234', '237', '240', '243', '246', '249', '252', '255', '258', '261', '264', '267', '270', '273', '276', '279', '282', '285', '288', '291', '294', '297', '300']\n"
     ]
    }
   ],
   "source": [
    "list1 = list(range(3,303,3))\n",
    "list_string = [str(x) for x in list1]\n",
    "print(list_string)"
   ]
  },
  {
   "cell_type": "markdown",
   "id": "22434d7f",
   "metadata": {},
   "source": [
    "# 3. Using the list from question 2, create a variable that concatenates each of the elements in order of index "
   ]
  },
  {
   "cell_type": "code",
   "execution_count": 35,
   "id": "007b4f9e",
   "metadata": {},
   "outputs": [
    {
     "name": "stdout",
     "output_type": "stream",
     "text": [
      "369121518212427303336394245485154576063666972757881848790939699102105108111114117120123126129132135138141144147150153156159162165168171174177180183186189192195198201204207210213216219222225228231234237240243246249252255258261264267270273276279282285288291294297300\n"
     ]
    }
   ],
   "source": [
    "string = [str(int) for int in list1]\n",
    "string = \"\".join(string)\n",
    "print(string)"
   ]
  },
  {
   "cell_type": "markdown",
   "id": "1dffc6cd",
   "metadata": {},
   "source": [
    "# 4. Using .pop() and .append(), create a list whose values are the same as the list from question 1 but in reverse order."
   ]
  },
  {
   "cell_type": "code",
   "execution_count": 52,
   "id": "634c295f",
   "metadata": {},
   "outputs": [
    {
     "name": "stdout",
     "output_type": "stream",
     "text": [
      "[300, 297, 294, 291, 288, 285, 282, 279, 276, 273, 270, 267, 264, 261, 258, 255, 252, 249, 246, 243, 240, 237, 234, 231, 228, 225, 222, 219, 216, 213, 210, 207, 204, 201, 198, 195, 192, 189, 186, 183, 180, 177, 174, 171, 168, 165, 162, 159, 156, 153, 150, 147, 144, 141, 138, 135, 132, 129, 126, 123, 120, 117, 114, 111, 108, 105, 102, 99, 96, 93, 90, 87, 84, 81, 78, 75, 72, 69, 66, 63, 60, 57, 54, 51, 48, 45, 42, 39, 36, 33, 30, 27, 24, 21, 18, 15, 12, 9, 6, 3]\n"
     ]
    }
   ],
   "source": [
    "list1 = list(range(3,303,3))\n",
    "list_reverse = []\n",
    "for value in range (len(list1)):\n",
    "    list_reverse.append(list1.pop())\n",
    "print(list_reverse)\n"
   ]
  },
  {
   "cell_type": "markdown",
   "id": "9cad880e",
   "metadata": {},
   "source": [
    "# 5. Using len(), calculate the midpoint of the list from question 1. Pass this midpoint to slice the list so that the resultant copy includes only the second half of the list from question 1."
   ]
  },
  {
   "cell_type": "code",
   "execution_count": 67,
   "id": "ac871bdc",
   "metadata": {},
   "outputs": [
    {
     "data": {
      "text/plain": [
       "153"
      ]
     },
     "execution_count": 67,
     "metadata": {},
     "output_type": "execute_result"
    }
   ],
   "source": [
    "list1 = list(range(3,303,3))\n",
    "len(list1)/2\n",
    "list1[50]\n"
   ]
  },
  {
   "cell_type": "code",
   "execution_count": 77,
   "id": "10ba8292",
   "metadata": {},
   "outputs": [
    {
     "name": "stdout",
     "output_type": "stream",
     "text": [
      "[153, 156, 159, 162, 165, 168, 171, 174, 177, 180, 183, 186, 189, 192, 195, 198, 201, 204, 207, 210, 213, 216, 219, 222, 225, 228, 231, 234, 237, 240, 243, 246, 249, 252, 255, 258, 261, 264, 267, 270, 273, 276, 279, 282, 285, 288, 291, 294, 297, 300]\n"
     ]
    }
   ],
   "source": [
    "min_index = int(len(list1)/2)\n",
    "max_index = int(len(list1))\n",
    "list1 = list(range(3,303,3))\n",
    "partial_list = list1[min_index:max_index]\n",
    "print(partial_list)"
   ]
  },
  {
   "cell_type": "markdown",
   "id": "2c4e31de",
   "metadata": {},
   "source": [
    "# 6. Create a string that includes only every other element, starting from the 0th element, from the string in question 3 while maintaining the order of these elements "
   ]
  },
  {
   "cell_type": "code",
   "execution_count": 124,
   "id": "44b76ef1",
   "metadata": {},
   "outputs": [
    {
     "name": "stdout",
     "output_type": "stream",
     "text": [
      "39152127333945515763697581879399105111117123129135141147153159165171177183189195201207213219225231237243249255261267273279285291297\n"
     ]
    }
   ],
   "source": [
    "string1 = [str(int) for int in (list1[0::2])]\n",
    "string1 = \"\".join(string1)\n",
    "print(string1)"
   ]
  },
  {
   "cell_type": "markdown",
   "id": "6144d68f",
   "metadata": {},
   "source": [
    "# 7. Explain the difference between a dynamic list in Python (usually referred to as a list) and a tuple."
   ]
  },
  {
   "cell_type": "markdown",
   "id": "2cea78b4",
   "metadata": {},
   "source": [
    "A dynamic list in Python is able to be modified. A tuple has characteristics that are static and cannot be modifed. You are able to change a list but unable to change a tuple once it has been created. "
   ]
  }
 ],
 "metadata": {
  "kernelspec": {
   "display_name": "Python 3 (ipykernel)",
   "language": "python",
   "name": "python3"
  },
  "language_info": {
   "codemirror_mode": {
    "name": "ipython",
    "version": 3
   },
   "file_extension": ".py",
   "mimetype": "text/x-python",
   "name": "python",
   "nbconvert_exporter": "python",
   "pygments_lexer": "ipython3",
   "version": "3.9.13"
  }
 },
 "nbformat": 4,
 "nbformat_minor": 5
}
